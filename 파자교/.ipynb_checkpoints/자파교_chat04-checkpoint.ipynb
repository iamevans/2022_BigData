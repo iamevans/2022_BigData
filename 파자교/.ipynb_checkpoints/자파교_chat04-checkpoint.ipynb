{
 "cells": [
  {
   "cell_type": "code",
   "execution_count": 1,
   "id": "d0b0de0a-2da7-4599-b251-4f03b5db479e",
   "metadata": {},
   "outputs": [
    {
     "name": "stdout",
     "output_type": "stream",
     "text": [
      "<!DOCTYPE html>\n",
      "<html lang=\"ko\">\n",
      " <head>\n",
      "  <meta charset=\"utf-8\"/>\n",
      "  <title>\n",
      "   스크레이핑에 대해서\n",
      "  </title>\n",
      " </head>\n",
      " <body>\n",
      "  <div id=\"content\">\n",
      "   <h1 class=\"about\" id=\"title\">\n",
      "    스크레이핑에 대해서\n",
      "   </h1>\n",
      "   <p>\n",
      "    스크레이핑이란 Web에서 원하는 정보를 추출하는 기법이다.\n",
      "   </p>\n",
      "   <p>\n",
      "    BeautifulSoup를 사용하면 간편하게 스크레이핑을 할 수 있다.\n",
      "   </p>\n",
      "  </div>\n",
      " </body>\n",
      "</html>\n",
      "\n",
      "<title>스크레이핑에 대해서</title>\n",
      "스크레이핑에 대해서\n",
      "\n",
      "<class 'bs4.BeautifulSoup'>\n",
      "<class 'bs4.element.Tag'>\n",
      "<class 'bs4.element.NavigableString'>\n"
     ]
    }
   ],
   "source": [
    "# import문으로 라이브러리 불러오기 --- (1)\n",
    "from bs4 import BeautifulSoup \n",
    "\n",
    "# HTML 파일 읽기 --- (2)\n",
    "hfile = 'input/scraping.html'\n",
    "with open(hfile, encoding='utf-8') as fp:\n",
    "  html_str = fp.read()\n",
    "  \n",
    "# Beautiful Soup 객체 --- (3)\n",
    "soup = BeautifulSoup(html_str, 'html5lib')\n",
    "print(soup.prettify()+'\\n') #--- (3a)\n",
    "\n",
    "# title 요소 확인하기 --- (4)\n",
    "title = soup.title\n",
    "print(title)\n",
    "print(title.string+'\\n')\n",
    "\n",
    "# bs4 객체 타입 --- (5)\n",
    "print(type(soup))\n",
    "print(type(title))\n",
    "print(type(title.string))\n"
   ]
  },
  {
   "cell_type": "code",
   "execution_count": 2,
   "id": "54cd79d2-b630-4853-a4de-a9d93c898e02",
   "metadata": {},
   "outputs": [
    {
     "name": "stdout",
     "output_type": "stream",
     "text": [
      "head의 부모: html\n",
      "head의 부모의 부모: [document]\n",
      "head의 자식\n",
      "[<class 'bs4.element.NavigableString'>]None\n",
      "[<class 'bs4.element.Tag'>]meta\n",
      "[<class 'bs4.element.NavigableString'>]None\n",
      "[<class 'bs4.element.Tag'>]title\n",
      "[<class 'bs4.element.NavigableString'>]None\n"
     ]
    }
   ],
   "source": [
    "# import문으로 라이브러리 불러오기\n",
    "from bs4 import BeautifulSoup \n",
    "\n",
    "# HTML 파일 읽기 --- (1)\n",
    "hfile = 'input/scraping.html'\n",
    "with open(hfile, encoding='utf-8') as fp:\n",
    "  html_str = fp.read()\n",
    "  \n",
    "# Beautiful Soup 객체 --- (2)\n",
    "soup = BeautifulSoup(html_str, 'html5lib')\n",
    "\n",
    "# head의 조상 확인하기 --- (3)\n",
    "head = soup.head\n",
    "print('head의 부모:',head.parent.name) #--- (3a)\n",
    "print('head의 부모의 부모:',head.parent.parent.name) #--- (3b)\n",
    "\n",
    "#head의 자식 확인하기 --- (4)\n",
    "print('head의 자식')\n",
    "for e in head.contents:\n",
    "    print('[{0}]{1}'.format(type(e),e.name))\n"
   ]
  },
  {
   "cell_type": "code",
   "execution_count": 3,
   "id": "02d06812-fa82-47ef-967a-5e0dbefa0a93",
   "metadata": {},
   "outputs": [
    {
     "name": "stdout",
     "output_type": "stream",
     "text": [
      "<title>책 소개 사이트</title>\n",
      "<title>책 소개 사이트</title>\n",
      "<title>책 소개 사이트</title>\n",
      "[<title>책 소개 사이트</title>]\n",
      "[<title>책 소개 사이트</title>]\n"
     ]
    }
   ],
   "source": [
    "from bs4 import BeautifulSoup\n",
    "hfile = 'server/templates/book_static.html'\n",
    "\n",
    "# HTML 파일 읽기 --- (1)\n",
    "with open(hfile, encoding='utf-8') as fp:\n",
    "  html_str = fp.read()\n",
    "\n",
    "# Beautiful Soup 객체 생성 --- (2)\n",
    "soup = BeautifulSoup(html_str, 'html5lib')\n",
    "\n",
    "#첫 번째 title 요소 출력 --- (3)\n",
    "print(soup.title)\n",
    "print(soup.find('title'))\n",
    "print(soup.select_one('title'))\n",
    "\n",
    "# 모든 title 요소 출력 --- (4)\n",
    "print(soup.find_all('title'))\n",
    "print(soup.select('title'))"
   ]
  },
  {
   "cell_type": "code",
   "execution_count": 4,
   "id": "49905ed3-317b-43fc-a344-03bdf70fb9d8",
   "metadata": {},
   "outputs": [
    {
     "name": "stdout",
     "output_type": "stream",
     "text": [
      "<div class=\"item\" id=\"b1\">\n",
      "            <div class=\"image\"><img src=\"../static/img/book1.png\"/></div>\n",
      "            <div class=\"text\">\n",
      "                <div class=\"title\">도커, 컨테이너 빌드업!</div>\n",
      "                <div class=\"date\">출간 2021년 12월</div>\n",
      "                <div class=\"price\">정가 28,000원</div>\n",
      "            </div>\n",
      "        </div>\n",
      "<div class=\"item\" id=\"b1\">\n",
      "            <div class=\"image\"><img src=\"../static/img/book1.png\"/></div>\n",
      "            <div class=\"text\">\n",
      "                <div class=\"title\">도커, 컨테이너 빌드업!</div>\n",
      "                <div class=\"date\">출간 2021년 12월</div>\n",
      "                <div class=\"price\">정가 28,000원</div>\n",
      "            </div>\n",
      "        </div>\n",
      "[<div class=\"item\" id=\"b1\">\n",
      "            <div class=\"image\"><img src=\"../static/img/book1.png\"/></div>\n",
      "            <div class=\"text\">\n",
      "                <div class=\"title\">도커, 컨테이너 빌드업!</div>\n",
      "                <div class=\"date\">출간 2021년 12월</div>\n",
      "                <div class=\"price\">정가 28,000원</div>\n",
      "            </div>\n",
      "        </div>]\n",
      "<div class=\"item\" id=\"b1\">\n",
      "            <div class=\"image\"><img src=\"../static/img/book1.png\"/></div>\n",
      "            <div class=\"text\">\n",
      "                <div class=\"title\">도커, 컨테이너 빌드업!</div>\n",
      "                <div class=\"date\">출간 2021년 12월</div>\n",
      "                <div class=\"price\">정가 28,000원</div>\n",
      "            </div>\n",
      "        </div>\n",
      "----------\n",
      "도커, 컨테이너 빌드업!\n",
      "<div class=\"title\">도커, 컨테이너 빌드업!</div>\n",
      "----------\n",
      "파이썬 머신러닝\n",
      "<div>파이썬 머신러닝</div>\n",
      "<div class=\"title\">\n",
      "                    <div>파이썬 머신러닝</div>\n",
      "                    <div>실무 테크닉 100</div>\n",
      "                </div>\n"
     ]
    }
   ],
   "source": [
    "from bs4 import BeautifulSoup\n",
    "hfile = 'server/templates/book_static.html'\n",
    "\n",
    "# HTML 파일 읽고 BeautifulSoup 객체 생성 --- (1)\n",
    "with open(hfile, encoding='utf-8') as fp:\n",
    "  html_str = fp.read()\n",
    "soup = BeautifulSoup(html_str, 'html5lib')\n",
    "\n",
    "# id가 b1인 .item 요소 찾기 --- (2)\n",
    "print(soup.find(id='b1', class_='item')) #--- (2a)\n",
    "print(soup.find(name='div', attrs={'id':'b1', 'class':'item'})) #--- (2b)\n",
    "print(soup.find_all('div', class_='item', limit=1)) #--- (2c)\n",
    "print(soup.select_one('div#b1.item')) #--- (2d)\n",
    "print('----------')\n",
    "\n",
    "# 책 제목으로 .title 요소 찾기 --- (3)\n",
    "print(soup.find(string='도커, 컨테이너 빌드업!')) #--- (3a)\n",
    "print(soup.find('div', string='도커, 컨테이너 빌드업!')) #--- (3b)\n",
    "print('----------')\n",
    "\n",
    "# 책 제목이 나뉘어졌을 때 .title 요소 찾기 --- (4)\n",
    "ele = soup.find(string='파이썬 머신러닝') \n",
    "print(ele) #--- (4a)\n",
    "print(ele.parent) #--- (4b)\n",
    "print(ele.parent.parent) #--- (4c)"
   ]
  },
  {
   "cell_type": "code",
   "execution_count": 1,
   "id": "ee329628-fea5-4a75-b4a9-07b9c726da64",
   "metadata": {},
   "outputs": [
    {
     "name": "stdout",
     "output_type": "stream",
     "text": [
      "정가 28,000원\n"
     ]
    }
   ],
   "source": [
    "from bs4 import BeautifulSoup\n",
    "hfile = 'server/templates/book_static.html'\n",
    "\n",
    "# HTML 파일 읽고 BeautifulSoup 객체 생성 --- (1)\n",
    "with open(hfile, encoding='utf-8') as fp:\n",
    "  html_str = fp.read()\n",
    "soup = BeautifulSoup(html_str, 'html5lib')\n",
    "\n",
    "# 후손 검색으로 가격 찾기 --- (2)\n",
    "item = soup.find(id='b1', class_='item')\n",
    "for e in item.descendants:\n",
    "    if e.name=='div':\n",
    "        if 'price' in e['class']:\n",
    "            print(e.string)\n"
   ]
  },
  {
   "cell_type": "code",
   "execution_count": 2,
   "id": "fbe4d4d1-f85c-42c1-9e34-95fc641f83de",
   "metadata": {},
   "outputs": [
    {
     "name": "stdout",
     "output_type": "stream",
     "text": [
      "정가 28,000원\n",
      "정가 28,000원\n"
     ]
    }
   ],
   "source": [
    "from bs4 import BeautifulSoup\n",
    "hfile = 'server/templates/book_static.html'\n",
    "\n",
    "# HTML 파일 읽고 BeautifulSoup 객체 생성\n",
    "with open(hfile, encoding='utf-8') as fp:\n",
    "  html_str = fp.read()\n",
    "soup = BeautifulSoup(html_str, 'html5lib')\n",
    "\n",
    "# 메서드로 검색하기 --- (1)\n",
    "item = soup.find('div', id='b1')\n",
    "p = item.find(class_='price')\n",
    "print(p.string)\n",
    "\n",
    "# CSS 선택자로 검색하기 --- (2)\n",
    "p = soup.select_one('#b1 .price')\n",
    "print(p.string)\n"
   ]
  },
  {
   "cell_type": "code",
   "execution_count": null,
   "id": "51d2f4e5-e4c5-4cae-8137-3270f4759135",
   "metadata": {},
   "outputs": [],
   "source": []
  }
 ],
 "metadata": {
  "kernelspec": {
   "display_name": "Python 3 (ipykernel)",
   "language": "python",
   "name": "python3"
  },
  "language_info": {
   "codemirror_mode": {
    "name": "ipython",
    "version": 3
   },
   "file_extension": ".py",
   "mimetype": "text/x-python",
   "name": "python",
   "nbconvert_exporter": "python",
   "pygments_lexer": "ipython3",
   "version": "3.9.7"
  }
 },
 "nbformat": 4,
 "nbformat_minor": 5
}
