{
 "cells": [
  {
   "cell_type": "code",
   "execution_count": 1,
   "id": "d0b0de0a-2da7-4599-b251-4f03b5db479e",
   "metadata": {},
   "outputs": [
    {
     "name": "stdout",
     "output_type": "stream",
     "text": [
      "<!DOCTYPE html>\n",
      "<html lang=\"ko\">\n",
      " <head>\n",
      "  <meta charset=\"utf-8\"/>\n",
      "  <title>\n",
      "   스크레이핑에 대해서\n",
      "  </title>\n",
      " </head>\n",
      " <body>\n",
      "  <div id=\"content\">\n",
      "   <h1 class=\"about\" id=\"title\">\n",
      "    스크레이핑에 대해서\n",
      "   </h1>\n",
      "   <p>\n",
      "    스크레이핑이란 Web에서 원하는 정보를 추출하는 기법이다.\n",
      "   </p>\n",
      "   <p>\n",
      "    BeautifulSoup를 사용하면 간편하게 스크레이핑을 할 수 있다.\n",
      "   </p>\n",
      "  </div>\n",
      " </body>\n",
      "</html>\n",
      "\n",
      "<title>스크레이핑에 대해서</title>\n",
      "스크레이핑에 대해서\n",
      "\n",
      "<class 'bs4.BeautifulSoup'>\n",
      "<class 'bs4.element.Tag'>\n",
      "<class 'bs4.element.NavigableString'>\n"
     ]
    }
   ],
   "source": [
    "# import문으로 라이브러리 불러오기 --- (1)\n",
    "from bs4 import BeautifulSoup \n",
    "\n",
    "# HTML 파일 읽기 --- (2)\n",
    "hfile = 'input/scraping.html'\n",
    "with open(hfile, encoding='utf-8') as fp:\n",
    "  html_str = fp.read()\n",
    "  \n",
    "# Beautiful Soup 객체 --- (3)\n",
    "soup = BeautifulSoup(html_str, 'html5lib')\n",
    "print(soup.prettify()+'\\n') #--- (3a)\n",
    "\n",
    "# title 요소 확인하기 --- (4)\n",
    "title = soup.title\n",
    "print(title)\n",
    "print(title.string+'\\n')\n",
    "\n",
    "# bs4 객체 타입 --- (5)\n",
    "print(type(soup))\n",
    "print(type(title))\n",
    "print(type(title.string))\n"
   ]
  },
  {
   "cell_type": "code",
   "execution_count": 2,
   "id": "54cd79d2-b630-4853-a4de-a9d93c898e02",
   "metadata": {},
   "outputs": [
    {
     "name": "stdout",
     "output_type": "stream",
     "text": [
      "head의 부모: html\n",
      "head의 부모의 부모: [document]\n",
      "head의 자식\n",
      "[<class 'bs4.element.NavigableString'>]None\n",
      "[<class 'bs4.element.Tag'>]meta\n",
      "[<class 'bs4.element.NavigableString'>]None\n",
      "[<class 'bs4.element.Tag'>]title\n",
      "[<class 'bs4.element.NavigableString'>]None\n"
     ]
    }
   ],
   "source": [
    "# import문으로 라이브러리 불러오기\n",
    "from bs4 import BeautifulSoup \n",
    "\n",
    "# HTML 파일 읽기 --- (1)\n",
    "hfile = 'input/scraping.html'\n",
    "with open(hfile, encoding='utf-8') as fp:\n",
    "  html_str = fp.read()\n",
    "  \n",
    "# Beautiful Soup 객체 --- (2)\n",
    "soup = BeautifulSoup(html_str, 'html5lib')\n",
    "\n",
    "# head의 조상 확인하기 --- (3)\n",
    "head = soup.head\n",
    "print('head의 부모:',head.parent.name) #--- (3a)\n",
    "print('head의 부모의 부모:',head.parent.parent.name) #--- (3b)\n",
    "\n",
    "#head의 자식 확인하기 --- (4)\n",
    "print('head의 자식')\n",
    "for e in head.contents:\n",
    "    print('[{0}]{1}'.format(type(e),e.name))\n"
   ]
  },
  {
   "cell_type": "code",
   "execution_count": 3,
   "id": "02d06812-fa82-47ef-967a-5e0dbefa0a93",
   "metadata": {},
   "outputs": [
    {
     "name": "stdout",
     "output_type": "stream",
     "text": [
      "<title>책 소개 사이트</title>\n",
      "<title>책 소개 사이트</title>\n",
      "<title>책 소개 사이트</title>\n",
      "[<title>책 소개 사이트</title>]\n",
      "[<title>책 소개 사이트</title>]\n"
     ]
    }
   ],
   "source": [
    "from bs4 import BeautifulSoup\n",
    "hfile = 'server/templates/book_static.html'\n",
    "\n",
    "# HTML 파일 읽기 --- (1)\n",
    "with open(hfile, encoding='utf-8') as fp:\n",
    "  html_str = fp.read()\n",
    "\n",
    "# Beautiful Soup 객체 생성 --- (2)\n",
    "soup = BeautifulSoup(html_str, 'html5lib')\n",
    "\n",
    "#첫 번째 title 요소 출력 --- (3)\n",
    "print(soup.title)\n",
    "print(soup.find('title'))\n",
    "print(soup.select_one('title'))\n",
    "\n",
    "# 모든 title 요소 출력 --- (4)\n",
    "print(soup.find_all('title'))\n",
    "print(soup.select('title'))"
   ]
  },
  {
   "cell_type": "code",
   "execution_count": 4,
   "id": "49905ed3-317b-43fc-a344-03bdf70fb9d8",
   "metadata": {},
   "outputs": [
    {
     "name": "stdout",
     "output_type": "stream",
     "text": [
      "<div class=\"item\" id=\"b1\">\n",
      "            <div class=\"image\"><img src=\"../static/img/book1.png\"/></div>\n",
      "            <div class=\"text\">\n",
      "                <div class=\"title\">도커, 컨테이너 빌드업!</div>\n",
      "                <div class=\"date\">출간 2021년 12월</div>\n",
      "                <div class=\"price\">정가 28,000원</div>\n",
      "            </div>\n",
      "        </div>\n",
      "<div class=\"item\" id=\"b1\">\n",
      "            <div class=\"image\"><img src=\"../static/img/book1.png\"/></div>\n",
      "            <div class=\"text\">\n",
      "                <div class=\"title\">도커, 컨테이너 빌드업!</div>\n",
      "                <div class=\"date\">출간 2021년 12월</div>\n",
      "                <div class=\"price\">정가 28,000원</div>\n",
      "            </div>\n",
      "        </div>\n",
      "[<div class=\"item\" id=\"b1\">\n",
      "            <div class=\"image\"><img src=\"../static/img/book1.png\"/></div>\n",
      "            <div class=\"text\">\n",
      "                <div class=\"title\">도커, 컨테이너 빌드업!</div>\n",
      "                <div class=\"date\">출간 2021년 12월</div>\n",
      "                <div class=\"price\">정가 28,000원</div>\n",
      "            </div>\n",
      "        </div>]\n",
      "<div class=\"item\" id=\"b1\">\n",
      "            <div class=\"image\"><img src=\"../static/img/book1.png\"/></div>\n",
      "            <div class=\"text\">\n",
      "                <div class=\"title\">도커, 컨테이너 빌드업!</div>\n",
      "                <div class=\"date\">출간 2021년 12월</div>\n",
      "                <div class=\"price\">정가 28,000원</div>\n",
      "            </div>\n",
      "        </div>\n",
      "----------\n",
      "도커, 컨테이너 빌드업!\n",
      "<div class=\"title\">도커, 컨테이너 빌드업!</div>\n",
      "----------\n",
      "파이썬 머신러닝\n",
      "<div>파이썬 머신러닝</div>\n",
      "<div class=\"title\">\n",
      "                    <div>파이썬 머신러닝</div>\n",
      "                    <div>실무 테크닉 100</div>\n",
      "                </div>\n"
     ]
    }
   ],
   "source": [
    "from bs4 import BeautifulSoup\n",
    "hfile = 'server/templates/book_static.html'\n",
    "\n",
    "# HTML 파일 읽고 BeautifulSoup 객체 생성 --- (1)\n",
    "with open(hfile, encoding='utf-8') as fp:\n",
    "  html_str = fp.read()\n",
    "soup = BeautifulSoup(html_str, 'html5lib')\n",
    "\n",
    "# id가 b1인 .item 요소 찾기 --- (2)\n",
    "print(soup.find(id='b1', class_='item')) #--- (2a)\n",
    "print(soup.find(name='div', attrs={'id':'b1', 'class':'item'})) #--- (2b)\n",
    "print(soup.find_all('div', class_='item', limit=1)) #--- (2c)\n",
    "print(soup.select_one('div#b1.item')) #--- (2d)\n",
    "print('----------')\n",
    "\n",
    "# 책 제목으로 .title 요소 찾기 --- (3)\n",
    "print(soup.find(string='도커, 컨테이너 빌드업!')) #--- (3a)\n",
    "print(soup.find('div', string='도커, 컨테이너 빌드업!')) #--- (3b)\n",
    "print('----------')\n",
    "\n",
    "# 책 제목이 나뉘어졌을 때 .title 요소 찾기 --- (4)\n",
    "ele = soup.find(string='파이썬 머신러닝') \n",
    "print(ele) #--- (4a)\n",
    "print(ele.parent) #--- (4b)\n",
    "print(ele.parent.parent) #--- (4c)"
   ]
  },
  {
   "cell_type": "code",
   "execution_count": 1,
   "id": "ee329628-fea5-4a75-b4a9-07b9c726da64",
   "metadata": {},
   "outputs": [
    {
     "name": "stdout",
     "output_type": "stream",
     "text": [
      "정가 28,000원\n"
     ]
    }
   ],
   "source": [
    "from bs4 import BeautifulSoup\n",
    "hfile = 'server/templates/book_static.html'\n",
    "\n",
    "# HTML 파일 읽고 BeautifulSoup 객체 생성 --- (1)\n",
    "with open(hfile, encoding='utf-8') as fp:\n",
    "  html_str = fp.read()\n",
    "soup = BeautifulSoup(html_str, 'html5lib')\n",
    "\n",
    "# 후손 검색으로 가격 찾기 --- (2)\n",
    "item = soup.find(id='b1', class_='item')\n",
    "for e in item.descendants:\n",
    "    if e.name=='div':\n",
    "        if 'price' in e['class']:\n",
    "            print(e.string)\n"
   ]
  },
  {
   "cell_type": "code",
   "execution_count": 2,
   "id": "fbe4d4d1-f85c-42c1-9e34-95fc641f83de",
   "metadata": {},
   "outputs": [
    {
     "name": "stdout",
     "output_type": "stream",
     "text": [
      "정가 28,000원\n",
      "정가 28,000원\n"
     ]
    }
   ],
   "source": [
    "from bs4 import BeautifulSoup\n",
    "hfile = 'server/templates/book_static.html'\n",
    "\n",
    "# HTML 파일 읽고 BeautifulSoup 객체 생성\n",
    "with open(hfile, encoding='utf-8') as fp:\n",
    "  html_str = fp.read()\n",
    "soup = BeautifulSoup(html_str, 'html5lib')\n",
    "\n",
    "# 메서드로 검색하기 --- (1)\n",
    "item = soup.find('div', id='b1')\n",
    "p = item.find(class_='price')\n",
    "print(p.string)\n",
    "\n",
    "# CSS 선택자로 검색하기 --- (2)\n",
    "p = soup.select_one('#b1 .price')\n",
    "print(p.string)\n"
   ]
  },
  {
   "cell_type": "code",
   "execution_count": 3,
   "id": "51d2f4e5-e4c5-4cae-8137-3270f4759135",
   "metadata": {},
   "outputs": [
    {
     "name": "stdout",
     "output_type": "stream",
     "text": [
      "('book1.png', '657143byte')\n",
      "('book2.png', '205076byte')\n",
      "('book3.png', '177284byte')\n",
      "('book4.png', '166446byte')\n",
      "('book5.png', '144058byte')\n",
      "('book6.png', '509593byte')\n",
      "('book7.png', '336548byte')\n",
      "('book8.png', '717148byte')\n"
     ]
    }
   ],
   "source": [
    "from bs4 import BeautifulSoup\n",
    "import os\n",
    "\n",
    "hfile = 'server/templates/book_static.html'\n",
    "\n",
    "# HTML 파일 읽고 BeautifulSoup 객체 생성 --- (1)\n",
    "with open(hfile, encoding='utf-8') as fp:\n",
    "  html_str = fp.read()\n",
    "soup = BeautifulSoup(html_str, 'html5lib')\n",
    "\n",
    "# id가 gallery-section인 요소 아래에서 img 얻기 --- (2)\n",
    "img_list = soup.select('#gallery-section img')\n",
    "imginfo = []\n",
    "# img 정보 얻기 --- (3)\n",
    "for img in img_list:\n",
    "    # 상대 경로 --- (3a)\n",
    "    relpath = img['src']    \n",
    "    # Path를 절대 경로로 변환 --- (3b)\n",
    "    basedir = os.path.dirname(hfile);\n",
    "    joinpath =os.path.join(basedir, relpath);\n",
    "    abspath = os.path.abspath(joinpath);\n",
    "    # 사이즈 계산하기 --- (3c)\n",
    "    size = str(os.path.getsize(abspath))\n",
    "    # 결과 출력 --- (3d)\n",
    "    imgtp = os.path.basename(abspath),size+\"byte\"\n",
    "    print(imgtp)\n",
    "    imginfo.append(imgtp)\n",
    "\n",
    "# 결과를 CSV로 저장 --- (4)\n",
    "import csv\n",
    "with open('output/imginfo.csv', 'wt', encoding='utf-8', newline='') as fp:\n",
    "    csv.writer(fp).writerows(imginfo)\n"
   ]
  },
  {
   "cell_type": "code",
   "execution_count": 1,
   "id": "ad7a1734-8870-42e5-8278-35cfd807b246",
   "metadata": {},
   "outputs": [
    {
     "ename": "NameError",
     "evalue": "name '__file__' is not defined",
     "output_type": "error",
     "traceback": [
      "\u001b[1;31m---------------------------------------------------------------------------\u001b[0m",
      "\u001b[1;31mNameError\u001b[0m                                 Traceback (most recent call last)",
      "Input \u001b[1;32mIn [1]\u001b[0m, in \u001b[0;36m<cell line: 3>\u001b[1;34m()\u001b[0m\n\u001b[0;32m      1\u001b[0m \u001b[38;5;28;01mimport\u001b[39;00m \u001b[38;5;21;01mos\u001b[39;00m\n\u001b[0;32m      2\u001b[0m URL \u001b[38;5;241m=\u001b[39m \u001b[38;5;124m'\u001b[39m\u001b[38;5;124mhttp://127.0.0.1:5000/\u001b[39m\u001b[38;5;124m'\u001b[39m\n\u001b[1;32m----> 3\u001b[0m DRIVER \u001b[38;5;241m=\u001b[39m os\u001b[38;5;241m.\u001b[39mpath\u001b[38;5;241m.\u001b[39mjoin(os\u001b[38;5;241m.\u001b[39mpath\u001b[38;5;241m.\u001b[39mdirname(\u001b[38;5;18;43m__file__\u001b[39;49m), \u001b[38;5;124m'\u001b[39m\u001b[38;5;124minput\u001b[39m\u001b[38;5;124m'\u001b[39m,\u001b[38;5;124m'\u001b[39m\u001b[38;5;124mchromedriver\u001b[39m\u001b[38;5;124m'\u001b[39m)\n",
      "\u001b[1;31mNameError\u001b[0m: name '__file__' is not defined"
     ]
    }
   ],
   "source": [
    "import os\n",
    "URL = 'http://127.0.0.1:5000/'\n",
    "DRIVER = os.path.join(os.path.dirname(__file__), 'input','chromedriver')"
   ]
  },
  {
   "cell_type": "code",
   "execution_count": 2,
   "id": "defc40c9-2999-4604-bf09-51fc84ef996d",
   "metadata": {},
   "outputs": [
    {
     "name": "stdout",
     "output_type": "stream",
     "text": [
      " * Serving Flask app 'server' (lazy loading)\n",
      " * Environment: production\n",
      "\u001b[31m   WARNING: This is a development server. Do not use it in a production deployment.\u001b[0m\n",
      "\u001b[2m   Use a production WSGI server instead.\u001b[0m\n",
      " * Debug mode: on\n"
     ]
    },
    {
     "name": "stderr",
     "output_type": "stream",
     "text": [
      " * Restarting with watchdog (windowsapi)\n"
     ]
    },
    {
     "ename": "SystemExit",
     "evalue": "1",
     "output_type": "error",
     "traceback": [
      "An exception has occurred, use %tb to see the full traceback.\n",
      "\u001b[1;31mSystemExit\u001b[0m\u001b[1;31m:\u001b[0m 1\n"
     ]
    },
    {
     "name": "stderr",
     "output_type": "stream",
     "text": [
      "C:\\ProgramData\\Anaconda3\\lib\\site-packages\\IPython\\core\\interactiveshell.py:3406: UserWarning: To exit: use 'exit', 'quit', or Ctrl-D.\n",
      "  warn(\"To exit: use 'exit', 'quit', or Ctrl-D.\", stacklevel=1)\n"
     ]
    }
   ],
   "source": [
    "import server\n",
    "\n",
    "app = server.create_app()\n",
    "app.run(debug=True, host='127.0.0.1', port=5000)"
   ]
  },
  {
   "cell_type": "code",
   "execution_count": 3,
   "id": "0eb3b5ce-6d7c-43b1-99f4-b7ea06cb3a18",
   "metadata": {},
   "outputs": [
    {
     "name": "stdout",
     "output_type": "stream",
     "text": [
      "{'encoding': 'SHIFT_JIS', 'confidence': 0.99, 'language': 'Japanese'}\n"
     ]
    }
   ],
   "source": [
    "import chardet, requests\n",
    "\n",
    "# 아오조라분코 > 달려라 메로스\n",
    "url = 'https://www.aozora.gr.jp/cards/000035/files/1567_14913.html'\n",
    "# 바이너리로 다운로드 --- (1)\n",
    "bindata = requests.get(url).content\n",
    "# 문자 인코딩 판정 --- (2)\n",
    "r = chardet.detect(bindata)\n",
    "# 결과 출력\n",
    "print(r)"
   ]
  },
  {
   "cell_type": "code",
   "execution_count": 5,
   "id": "9fda608f-b2b0-4732-a1ba-2264878023eb",
   "metadata": {},
   "outputs": [
    {
     "name": "stderr",
     "output_type": "stream",
     "text": [
      "C:\\Users\\user\\AppData\\Local\\Temp\\ipykernel_11660\\171295825.py:7: DeprecationWarning: executable_path has been deprecated, please pass in a Service object\n",
      "  driver = webdriver.Chrome(d)\n"
     ]
    },
    {
     "ename": "SessionNotCreatedException",
     "evalue": "Message: session not created: This version of ChromeDriver only supports Chrome version 102\nCurrent browser version is 108.0.5359.71 with binary path C:\\Program Files (x86)\\Google\\Chrome\\Application\\chrome.exe\nStacktrace:\nBacktrace:\n\tOrdinal0 [0x00E7D953+2414931]\n\tOrdinal0 [0x00E0F5E1+1963489]\n\tOrdinal0 [0x00CFC6B8+837304]\n\tOrdinal0 [0x00D1CAE3+969443]\n\tOrdinal0 [0x00D186FA+952058]\n\tOrdinal0 [0x00D15FB1+942001]\n\tOrdinal0 [0x00D49100+1151232]\n\tOrdinal0 [0x00D48D5A+1150298]\n\tOrdinal0 [0x00D442B6+1131190]\n\tOrdinal0 [0x00D1E860+976992]\n\tOrdinal0 [0x00D1F756+980822]\n\tGetHandleVerifier [0x010ECC62+2510274]\n\tGetHandleVerifier [0x010DF760+2455744]\n\tGetHandleVerifier [0x00F0EABA+551962]\n\tGetHandleVerifier [0x00F0D916+547446]\n\tOrdinal0 [0x00E15F3B+1990459]\n\tOrdinal0 [0x00E1A898+2009240]\n\tOrdinal0 [0x00E1A985+2009477]\n\tOrdinal0 [0x00E23AD1+2046673]\n\tBaseThreadInitThunk [0x762AFA29+25]\n\tRtlGetAppContainerNamedObjectPath [0x77767BBE+286]\n\tRtlGetAppContainerNamedObjectPath [0x77767B8E+238]\n",
     "output_type": "error",
     "traceback": [
      "\u001b[1;31m---------------------------------------------------------------------------\u001b[0m",
      "\u001b[1;31mSessionNotCreatedException\u001b[0m                Traceback (most recent call last)",
      "Input \u001b[1;32mIn [5]\u001b[0m, in \u001b[0;36m<cell line: 7>\u001b[1;34m()\u001b[0m\n\u001b[0;32m      4\u001b[0m \u001b[38;5;28;01mfrom\u001b[39;00m \u001b[38;5;21;01m_MyPath\u001b[39;00m \u001b[38;5;28;01mimport\u001b[39;00m DRIVER \u001b[38;5;28;01mas\u001b[39;00m d\n\u001b[0;32m      6\u001b[0m \u001b[38;5;66;03m# 크롬 열기 --- (2)\u001b[39;00m\n\u001b[1;32m----> 7\u001b[0m driver \u001b[38;5;241m=\u001b[39m \u001b[43mwebdriver\u001b[49m\u001b[38;5;241;43m.\u001b[39;49m\u001b[43mChrome\u001b[49m\u001b[43m(\u001b[49m\u001b[43md\u001b[49m\u001b[43m)\u001b[49m\n\u001b[0;32m      9\u001b[0m \u001b[38;5;66;03m# 파이썬 페이지 열기 --- (3)\u001b[39;00m\n\u001b[0;32m     10\u001b[0m driver\u001b[38;5;241m.\u001b[39mget(\u001b[38;5;124m'\u001b[39m\u001b[38;5;124mhttps://python.org\u001b[39m\u001b[38;5;124m'\u001b[39m)\n",
      "File \u001b[1;32mC:\\ProgramData\\Anaconda3\\lib\\site-packages\\selenium\\webdriver\\chrome\\webdriver.py:81\u001b[0m, in \u001b[0;36mWebDriver.__init__\u001b[1;34m(self, executable_path, port, options, service_args, desired_capabilities, service_log_path, chrome_options, service, keep_alive)\u001b[0m\n\u001b[0;32m     78\u001b[0m \u001b[38;5;28;01mif\u001b[39;00m \u001b[38;5;129;01mnot\u001b[39;00m service:\n\u001b[0;32m     79\u001b[0m     service \u001b[38;5;241m=\u001b[39m Service(executable_path, port, service_args, service_log_path)\n\u001b[1;32m---> 81\u001b[0m \u001b[38;5;28;43msuper\u001b[39;49m\u001b[43m(\u001b[49m\u001b[43m)\u001b[49m\u001b[38;5;241;43m.\u001b[39;49m\u001b[38;5;21;43m__init__\u001b[39;49m\u001b[43m(\u001b[49m\n\u001b[0;32m     82\u001b[0m \u001b[43m    \u001b[49m\u001b[43mDesiredCapabilities\u001b[49m\u001b[38;5;241;43m.\u001b[39;49m\u001b[43mCHROME\u001b[49m\u001b[43m[\u001b[49m\u001b[38;5;124;43m\"\u001b[39;49m\u001b[38;5;124;43mbrowserName\u001b[39;49m\u001b[38;5;124;43m\"\u001b[39;49m\u001b[43m]\u001b[49m\u001b[43m,\u001b[49m\n\u001b[0;32m     83\u001b[0m \u001b[43m    \u001b[49m\u001b[38;5;124;43m\"\u001b[39;49m\u001b[38;5;124;43mgoog\u001b[39;49m\u001b[38;5;124;43m\"\u001b[39;49m\u001b[43m,\u001b[49m\n\u001b[0;32m     84\u001b[0m \u001b[43m    \u001b[49m\u001b[43mport\u001b[49m\u001b[43m,\u001b[49m\n\u001b[0;32m     85\u001b[0m \u001b[43m    \u001b[49m\u001b[43moptions\u001b[49m\u001b[43m,\u001b[49m\n\u001b[0;32m     86\u001b[0m \u001b[43m    \u001b[49m\u001b[43mservice_args\u001b[49m\u001b[43m,\u001b[49m\n\u001b[0;32m     87\u001b[0m \u001b[43m    \u001b[49m\u001b[43mdesired_capabilities\u001b[49m\u001b[43m,\u001b[49m\n\u001b[0;32m     88\u001b[0m \u001b[43m    \u001b[49m\u001b[43mservice_log_path\u001b[49m\u001b[43m,\u001b[49m\n\u001b[0;32m     89\u001b[0m \u001b[43m    \u001b[49m\u001b[43mservice\u001b[49m\u001b[43m,\u001b[49m\n\u001b[0;32m     90\u001b[0m \u001b[43m    \u001b[49m\u001b[43mkeep_alive\u001b[49m\u001b[43m,\u001b[49m\n\u001b[0;32m     91\u001b[0m \u001b[43m\u001b[49m\u001b[43m)\u001b[49m\n",
      "File \u001b[1;32mC:\\ProgramData\\Anaconda3\\lib\\site-packages\\selenium\\webdriver\\chromium\\webdriver.py:106\u001b[0m, in \u001b[0;36mChromiumDriver.__init__\u001b[1;34m(self, browser_name, vendor_prefix, port, options, service_args, desired_capabilities, service_log_path, service, keep_alive)\u001b[0m\n\u001b[0;32m    103\u001b[0m \u001b[38;5;28mself\u001b[39m\u001b[38;5;241m.\u001b[39mservice\u001b[38;5;241m.\u001b[39mstart()\n\u001b[0;32m    105\u001b[0m \u001b[38;5;28;01mtry\u001b[39;00m:\n\u001b[1;32m--> 106\u001b[0m     \u001b[38;5;28;43msuper\u001b[39;49m\u001b[43m(\u001b[49m\u001b[43m)\u001b[49m\u001b[38;5;241;43m.\u001b[39;49m\u001b[38;5;21;43m__init__\u001b[39;49m\u001b[43m(\u001b[49m\n\u001b[0;32m    107\u001b[0m \u001b[43m        \u001b[49m\u001b[43mcommand_executor\u001b[49m\u001b[38;5;241;43m=\u001b[39;49m\u001b[43mChromiumRemoteConnection\u001b[49m\u001b[43m(\u001b[49m\n\u001b[0;32m    108\u001b[0m \u001b[43m            \u001b[49m\u001b[43mremote_server_addr\u001b[49m\u001b[38;5;241;43m=\u001b[39;49m\u001b[38;5;28;43mself\u001b[39;49m\u001b[38;5;241;43m.\u001b[39;49m\u001b[43mservice\u001b[49m\u001b[38;5;241;43m.\u001b[39;49m\u001b[43mservice_url\u001b[49m\u001b[43m,\u001b[49m\n\u001b[0;32m    109\u001b[0m \u001b[43m            \u001b[49m\u001b[43mbrowser_name\u001b[49m\u001b[38;5;241;43m=\u001b[39;49m\u001b[43mbrowser_name\u001b[49m\u001b[43m,\u001b[49m\n\u001b[0;32m    110\u001b[0m \u001b[43m            \u001b[49m\u001b[43mvendor_prefix\u001b[49m\u001b[38;5;241;43m=\u001b[39;49m\u001b[43mvendor_prefix\u001b[49m\u001b[43m,\u001b[49m\n\u001b[0;32m    111\u001b[0m \u001b[43m            \u001b[49m\u001b[43mkeep_alive\u001b[49m\u001b[38;5;241;43m=\u001b[39;49m\u001b[43mkeep_alive\u001b[49m\u001b[43m,\u001b[49m\n\u001b[0;32m    112\u001b[0m \u001b[43m            \u001b[49m\u001b[43mignore_proxy\u001b[49m\u001b[38;5;241;43m=\u001b[39;49m\u001b[43m_ignore_proxy\u001b[49m\u001b[43m,\u001b[49m\n\u001b[0;32m    113\u001b[0m \u001b[43m        \u001b[49m\u001b[43m)\u001b[49m\u001b[43m,\u001b[49m\n\u001b[0;32m    114\u001b[0m \u001b[43m        \u001b[49m\u001b[43moptions\u001b[49m\u001b[38;5;241;43m=\u001b[39;49m\u001b[43moptions\u001b[49m\u001b[43m,\u001b[49m\n\u001b[0;32m    115\u001b[0m \u001b[43m    \u001b[49m\u001b[43m)\u001b[49m\n\u001b[0;32m    116\u001b[0m \u001b[38;5;28;01mexcept\u001b[39;00m \u001b[38;5;167;01mException\u001b[39;00m:\n\u001b[0;32m    117\u001b[0m     \u001b[38;5;28mself\u001b[39m\u001b[38;5;241m.\u001b[39mquit()\n",
      "File \u001b[1;32mC:\\ProgramData\\Anaconda3\\lib\\site-packages\\selenium\\webdriver\\remote\\webdriver.py:288\u001b[0m, in \u001b[0;36mWebDriver.__init__\u001b[1;34m(self, command_executor, desired_capabilities, browser_profile, proxy, keep_alive, file_detector, options)\u001b[0m\n\u001b[0;32m    286\u001b[0m \u001b[38;5;28mself\u001b[39m\u001b[38;5;241m.\u001b[39m_authenticator_id \u001b[38;5;241m=\u001b[39m \u001b[38;5;28;01mNone\u001b[39;00m\n\u001b[0;32m    287\u001b[0m \u001b[38;5;28mself\u001b[39m\u001b[38;5;241m.\u001b[39mstart_client()\n\u001b[1;32m--> 288\u001b[0m \u001b[38;5;28;43mself\u001b[39;49m\u001b[38;5;241;43m.\u001b[39;49m\u001b[43mstart_session\u001b[49m\u001b[43m(\u001b[49m\u001b[43mcapabilities\u001b[49m\u001b[43m,\u001b[49m\u001b[43m \u001b[49m\u001b[43mbrowser_profile\u001b[49m\u001b[43m)\u001b[49m\n",
      "File \u001b[1;32mC:\\ProgramData\\Anaconda3\\lib\\site-packages\\selenium\\webdriver\\remote\\webdriver.py:381\u001b[0m, in \u001b[0;36mWebDriver.start_session\u001b[1;34m(self, capabilities, browser_profile)\u001b[0m\n\u001b[0;32m    379\u001b[0m w3c_caps \u001b[38;5;241m=\u001b[39m _make_w3c_caps(capabilities)\n\u001b[0;32m    380\u001b[0m parameters \u001b[38;5;241m=\u001b[39m {\u001b[38;5;124m\"\u001b[39m\u001b[38;5;124mcapabilities\u001b[39m\u001b[38;5;124m\"\u001b[39m: w3c_caps}\n\u001b[1;32m--> 381\u001b[0m response \u001b[38;5;241m=\u001b[39m \u001b[38;5;28;43mself\u001b[39;49m\u001b[38;5;241;43m.\u001b[39;49m\u001b[43mexecute\u001b[49m\u001b[43m(\u001b[49m\u001b[43mCommand\u001b[49m\u001b[38;5;241;43m.\u001b[39;49m\u001b[43mNEW_SESSION\u001b[49m\u001b[43m,\u001b[49m\u001b[43m \u001b[49m\u001b[43mparameters\u001b[49m\u001b[43m)\u001b[49m\n\u001b[0;32m    382\u001b[0m \u001b[38;5;28;01mif\u001b[39;00m \u001b[38;5;124m\"\u001b[39m\u001b[38;5;124msessionId\u001b[39m\u001b[38;5;124m\"\u001b[39m \u001b[38;5;129;01mnot\u001b[39;00m \u001b[38;5;129;01min\u001b[39;00m response:\n\u001b[0;32m    383\u001b[0m     response \u001b[38;5;241m=\u001b[39m response[\u001b[38;5;124m\"\u001b[39m\u001b[38;5;124mvalue\u001b[39m\u001b[38;5;124m\"\u001b[39m]\n",
      "File \u001b[1;32mC:\\ProgramData\\Anaconda3\\lib\\site-packages\\selenium\\webdriver\\remote\\webdriver.py:444\u001b[0m, in \u001b[0;36mWebDriver.execute\u001b[1;34m(self, driver_command, params)\u001b[0m\n\u001b[0;32m    442\u001b[0m response \u001b[38;5;241m=\u001b[39m \u001b[38;5;28mself\u001b[39m\u001b[38;5;241m.\u001b[39mcommand_executor\u001b[38;5;241m.\u001b[39mexecute(driver_command, params)\n\u001b[0;32m    443\u001b[0m \u001b[38;5;28;01mif\u001b[39;00m response:\n\u001b[1;32m--> 444\u001b[0m     \u001b[38;5;28;43mself\u001b[39;49m\u001b[38;5;241;43m.\u001b[39;49m\u001b[43merror_handler\u001b[49m\u001b[38;5;241;43m.\u001b[39;49m\u001b[43mcheck_response\u001b[49m\u001b[43m(\u001b[49m\u001b[43mresponse\u001b[49m\u001b[43m)\u001b[49m\n\u001b[0;32m    445\u001b[0m     response[\u001b[38;5;124m\"\u001b[39m\u001b[38;5;124mvalue\u001b[39m\u001b[38;5;124m\"\u001b[39m] \u001b[38;5;241m=\u001b[39m \u001b[38;5;28mself\u001b[39m\u001b[38;5;241m.\u001b[39m_unwrap_value(response\u001b[38;5;241m.\u001b[39mget(\u001b[38;5;124m\"\u001b[39m\u001b[38;5;124mvalue\u001b[39m\u001b[38;5;124m\"\u001b[39m, \u001b[38;5;28;01mNone\u001b[39;00m))\n\u001b[0;32m    446\u001b[0m     \u001b[38;5;28;01mreturn\u001b[39;00m response\n",
      "File \u001b[1;32mC:\\ProgramData\\Anaconda3\\lib\\site-packages\\selenium\\webdriver\\remote\\errorhandler.py:249\u001b[0m, in \u001b[0;36mErrorHandler.check_response\u001b[1;34m(self, response)\u001b[0m\n\u001b[0;32m    247\u001b[0m         alert_text \u001b[38;5;241m=\u001b[39m value[\u001b[38;5;124m\"\u001b[39m\u001b[38;5;124malert\u001b[39m\u001b[38;5;124m\"\u001b[39m]\u001b[38;5;241m.\u001b[39mget(\u001b[38;5;124m\"\u001b[39m\u001b[38;5;124mtext\u001b[39m\u001b[38;5;124m\"\u001b[39m)\n\u001b[0;32m    248\u001b[0m     \u001b[38;5;28;01mraise\u001b[39;00m exception_class(message, screen, stacktrace, alert_text)  \u001b[38;5;66;03m# type: ignore[call-arg]  # mypy is not smart enough here\u001b[39;00m\n\u001b[1;32m--> 249\u001b[0m \u001b[38;5;28;01mraise\u001b[39;00m exception_class(message, screen, stacktrace)\n",
      "\u001b[1;31mSessionNotCreatedException\u001b[0m: Message: session not created: This version of ChromeDriver only supports Chrome version 102\nCurrent browser version is 108.0.5359.71 with binary path C:\\Program Files (x86)\\Google\\Chrome\\Application\\chrome.exe\nStacktrace:\nBacktrace:\n\tOrdinal0 [0x00E7D953+2414931]\n\tOrdinal0 [0x00E0F5E1+1963489]\n\tOrdinal0 [0x00CFC6B8+837304]\n\tOrdinal0 [0x00D1CAE3+969443]\n\tOrdinal0 [0x00D186FA+952058]\n\tOrdinal0 [0x00D15FB1+942001]\n\tOrdinal0 [0x00D49100+1151232]\n\tOrdinal0 [0x00D48D5A+1150298]\n\tOrdinal0 [0x00D442B6+1131190]\n\tOrdinal0 [0x00D1E860+976992]\n\tOrdinal0 [0x00D1F756+980822]\n\tGetHandleVerifier [0x010ECC62+2510274]\n\tGetHandleVerifier [0x010DF760+2455744]\n\tGetHandleVerifier [0x00F0EABA+551962]\n\tGetHandleVerifier [0x00F0D916+547446]\n\tOrdinal0 [0x00E15F3B+1990459]\n\tOrdinal0 [0x00E1A898+2009240]\n\tOrdinal0 [0x00E1A985+2009477]\n\tOrdinal0 [0x00E23AD1+2046673]\n\tBaseThreadInitThunk [0x762AFA29+25]\n\tRtlGetAppContainerNamedObjectPath [0x77767BBE+286]\n\tRtlGetAppContainerNamedObjectPath [0x77767B8E+238]\n"
     ]
    }
   ],
   "source": [
    "# Selenium 불러오기 --- (1)\n",
    "from selenium import webdriver\n",
    "import time\n",
    "from _MyPath import DRIVER as d\n",
    "\n",
    "# 크롬 열기 --- (2)\n",
    "driver = webdriver.Chrome(d)\n",
    "\n",
    "# 파이썬 페이지 열기 --- (3)\n",
    "driver.get('https://python.org')\n",
    "\n",
    "# 3초 후에 크롬 닫기 --- (4)\n",
    "time.sleep(3)\n",
    "driver.quit()"
   ]
  },
  {
   "cell_type": "code",
   "execution_count": null,
   "id": "d21a418f-3d6c-4a28-8488-e62690bba834",
   "metadata": {},
   "outputs": [],
   "source": []
  }
 ],
 "metadata": {
  "kernelspec": {
   "display_name": "Python 3 (ipykernel)",
   "language": "python",
   "name": "python3"
  },
  "language_info": {
   "codemirror_mode": {
    "name": "ipython",
    "version": 3
   },
   "file_extension": ".py",
   "mimetype": "text/x-python",
   "name": "python",
   "nbconvert_exporter": "python",
   "pygments_lexer": "ipython3",
   "version": "3.9.7"
  }
 },
 "nbformat": 4,
 "nbformat_minor": 5
}
