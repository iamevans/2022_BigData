{
 "cells": [
  {
   "cell_type": "code",
   "execution_count": null,
   "id": "22ce2cd5-359d-400f-a44b-04ceff92b2b2",
   "metadata": {},
   "outputs": [],
   "source": [
    "import tkinter as tk\n",
    "from tkinter import messagebox as mb\n",
    "\n",
    "# tkinter 창 숨기기\n",
    "tk.Tk().withdraw()\n",
    "\n",
    "# 메시지 표시\n",
    "mb.showinfo(\"프로그램 실행\", \"check.py 파일이 실행되었습니다.\")\n",
    "\n",
    "quit()"
   ]
  },
  {
   "cell_type": "code",
   "execution_count": 1,
   "id": "2261c2b9-4544-4111-ac4e-f19689edfb95",
   "metadata": {},
   "outputs": [
    {
     "name": "stdout",
     "output_type": "stream",
     "text": [
      "앞으로872일 남았습니다\n"
     ]
    }
   ],
   "source": [
    "from datetime import datetime\n",
    "\n",
    "# D-day 날짜를 지정 --- (1)\n",
    "dday = datetime(2025, 4, 13)\n",
    "# 오늘 날짜를 지정 --- (2)\n",
    "now = datetime.now()\n",
    "# 일수 계산 --- (3)\n",
    "delta = dday - now\n",
    "# 결과 출력 --- (4)\n",
    "print('앞으로'+str(delta.days+1)+'일 남았습니다')"
   ]
  },
  {
   "cell_type": "code",
   "execution_count": 2,
   "id": "05424503-793d-4e93-a985-2c70eb49e663",
   "metadata": {},
   "outputs": [
    {
     "name": "stdout",
     "output_type": "stream",
     "text": [
      "수면 시간은10.5시간입니다.\n"
     ]
    }
   ],
   "source": [
    "from datetime import datetime\n",
    "\n",
    "# 취침 시간과 기상 시간을 지정 ---(1)\n",
    "sleep_t = datetime(2023, 1, 1,22, 0, 0)\n",
    "wakeup_t = datetime(2023, 1, 2, 8,30, 0)\n",
    "\n",
    "# 시간 계산 ---(2)\n",
    "delta = wakeup_t - sleep_t\n",
    "sec = delta.seconds # 수면 시간을 초로 환산 ---(3)\n",
    "hours = sec / (60 * 60)\n",
    "\n",
    "# 결과 표시 ---(4)\n",
    "print('수면 시간은'+str(hours)+'시간입니다.')"
   ]
  },
  {
   "cell_type": "code",
   "execution_count": 3,
   "id": "86828db1-5239-4d55-bcc5-049a51387b34",
   "metadata": {},
   "outputs": [
    {
     "name": "stdout",
     "output_type": "stream",
     "text": [
      "2025/03/02\n"
     ]
    }
   ],
   "source": [
    "from datetime import datetime, timedelta\n",
    "\n",
    "# 기준 날짜 지정--- (1)\n",
    "base_t  = datetime(2025, 2, 27)\n",
    "# 3일 후를 계산 --- (2)\n",
    "t = base_t + timedelta(days=3)\n",
    "# 결과 표시 --- (3)\n",
    "print(t.strftime('%Y/%m/%d'))\n"
   ]
  },
  {
   "cell_type": "code",
   "execution_count": 4,
   "id": "a46b0ab2-93bc-4062-a965-e0562e01c9a9",
   "metadata": {},
   "outputs": [
    {
     "name": "stdout",
     "output_type": "stream",
     "text": [
      "2022년11월23일 14시25분22초\n"
     ]
    }
   ],
   "source": [
    "from datetime import datetime\n",
    "\n",
    "# 현재 시각을 받아와서 특정 형식으로 출력하기\n",
    "t = datetime.now()\n",
    "fmt = t.strftime('%Y년%m월%d일 %H시%M분%S초')\n",
    "print(fmt)\n"
   ]
  },
  {
   "cell_type": "code",
   "execution_count": 5,
   "id": "3404e85f-98c7-49ce-922d-022d1ea0686c",
   "metadata": {},
   "outputs": [
    {
     "name": "stdout",
     "output_type": "stream",
     "text": [
      "2022-11-23 14:26:15.179684\n"
     ]
    }
   ],
   "source": [
    "# 날짜·시간 관련 처리를 하는 모듈 --- (1)\n",
    "import datetime\n",
    "\n",
    "# 현재 시각 구하기 --- (2)\n",
    "t = datetime.datetime.now()\n",
    "print(t) # 현재 시각을 문자열로 출력\n"
   ]
  },
  {
   "cell_type": "code",
   "execution_count": 6,
   "id": "9d3a3a05-c3fa-4f91-b38e-412867025311",
   "metadata": {},
   "outputs": [
    {
     "name": "stdout",
     "output_type": "stream",
     "text": [
      "2023년 01월 01일\n"
     ]
    }
   ],
   "source": [
    "from datetime import datetime\n",
    "\n",
    "# 2023/01/01을 지정해 객체 생성\n",
    "t = datetime(2023, 1, 1)\n",
    "\n",
    "# 날짜·시간을 표시\n",
    "print(t.strftime('%Y년 %m월 %d일')) # 결과 예: 2023년 01월 01일"
   ]
  },
  {
   "cell_type": "code",
   "execution_count": 7,
   "id": "f254a995-87fa-4950-b09d-9e09f365d774",
   "metadata": {},
   "outputs": [
    {
     "name": "stdout",
     "output_type": "stream",
     "text": [
      "출력할 메시지를 입력해주세요\n"
     ]
    },
    {
     "name": "stdin",
     "output_type": "stream",
     "text": [
      " 11\n"
     ]
    },
    {
     "name": "stdout",
     "output_type": "stream",
     "text": [
      "입력 내용: 11\n"
     ]
    }
   ],
   "source": [
    "msg = '출력할 메시지를 입력해주세요'\n",
    "print(msg)\n",
    "instr = input()\n",
    "print('입력 내용:',instr)\n"
   ]
  },
  {
   "cell_type": "code",
   "execution_count": null,
   "id": "b92148d5-dfa1-453b-b20d-eb5e4b035397",
   "metadata": {},
   "outputs": [],
   "source": []
  }
 ],
 "metadata": {
  "kernelspec": {
   "display_name": "Python 3 (ipykernel)",
   "language": "python",
   "name": "python3"
  },
  "language_info": {
   "codemirror_mode": {
    "name": "ipython",
    "version": 3
   },
   "file_extension": ".py",
   "mimetype": "text/x-python",
   "name": "python",
   "nbconvert_exporter": "python",
   "pygments_lexer": "ipython3",
   "version": "3.9.7"
  }
 },
 "nbformat": 4,
 "nbformat_minor": 5
}
