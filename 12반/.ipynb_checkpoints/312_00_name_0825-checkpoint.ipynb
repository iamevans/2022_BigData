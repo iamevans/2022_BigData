{
 "cells": [
  {
   "cell_type": "markdown",
   "id": "a83df91f-18d1-4491-ac14-ca12da538ebe",
   "metadata": {},
   "source": [
    "## 2022.08.25 7교시"
   ]
  },
  {
   "cell_type": "markdown",
   "id": "941b8126-1e4b-4acd-a041-f088d28a2d9c",
   "metadata": {},
   "source": [
    "문제1 a부터 b까지 정수의 합을 구하여라"
   ]
  },
  {
   "cell_type": "code",
   "execution_count": 1,
   "id": "9cb6f693-1c66-44dd-a1c5-e830914575d8",
   "metadata": {},
   "outputs": [
    {
     "name": "stdout",
     "output_type": "stream",
     "text": [
      "a부터 b까지의 합을 구합니다.\n"
     ]
    },
    {
     "name": "stdin",
     "output_type": "stream",
     "text": [
      "정수 a를 입력하세요.:  4\n",
      "정수 b를 입력하세요.:  2\n"
     ]
    },
    {
     "name": "stdout",
     "output_type": "stream",
     "text": [
      "2부터 4까지 정수의 합은 9입니다.\n"
     ]
    }
   ],
   "source": [
    "# [Do it! 실습 1-9] a부터 b까지 정수의 합 구하기(for 문)\n",
    "\n",
    "print('a부터 b까지의 합을 구합니다.')\n",
    "a = int(input('정수 a를 입력하세요.: '))\n",
    "b = int(input('정수 b를 입력하세요.: '))\n",
    "\n",
    "if a > b:\n",
    "    a, b = b, a  # a와 b를 오름차순으로 정렬\n",
    "\n",
    "sum = 0\n",
    "for i in range(a, b + 1):\n",
    "    sum += i  # sum에 i를 더함\n",
    "\n",
    "print(f'{a}부터 {b}까지 정수의 합은 {sum}입니다.')"
   ]
  },
  {
   "cell_type": "code",
   "execution_count": 3,
   "id": "93a6fd9a-dfc9-4e74-a846-1c15d9f779fa",
   "metadata": {},
   "outputs": [
    {
     "name": "stdin",
     "output_type": "stream",
     "text": [
      "a와 b의 값을 입력하시오 >> (구분:공백) 20 10\n"
     ]
    },
    {
     "name": "stdout",
     "output_type": "stream",
     "text": [
      "10 + 11 + 12 + 13 + 14 + 15 + 16 + 17 + 18 + 19 + 20 = 165\n"
     ]
    }
   ],
   "source": [
    "# a부터 b 까지의 합 구하기\n",
    "a,b= input(\"a와 b의 값을 입력하시오 >> (구분:공백)\").split()\n",
    "          \n",
    "a=int(a)\n",
    "b=int(b)\n",
    "\n",
    "if a>b:\n",
    "    a,b=b,a # a와 b를 오름차순으로 정렬\n",
    "\n",
    "sum=0\n",
    "for i in range(a,b):\n",
    "    print(f'{i} + ', end='')\n",
    "    sum+=i\n",
    "\n",
    "print(f\"{b} = \", end='')\n",
    "sum+=b\n",
    "print(sum)"
   ]
  },
  {
   "cell_type": "code",
   "execution_count": 8,
   "id": "5215fe8f-3b7e-4e44-aef9-379d0fd08cfb",
   "metadata": {},
   "outputs": [
    {
     "name": "stdout",
     "output_type": "stream",
     "text": [
      "a부터 b까지의 합을 구합니다.\n"
     ]
    },
    {
     "name": "stdin",
     "output_type": "stream",
     "text": [
      "정수 a를 입력하세요.:  20\n",
      "정수 b를 입력하세요.:  10\n"
     ]
    },
    {
     "name": "stdout",
     "output_type": "stream",
     "text": [
      "10 + 11 + 12 + 13 + 14 + 15 + 16 + 17 + 18 + 19 + 20 = 165\n"
     ]
    }
   ],
   "source": [
    "print('a부터 b까지의 합을 구합니다.')\n",
    "a = int(input('정수 a를 입력하세요.: '))\n",
    "b = int(input('정수 b를 입력하세요.: '))\n",
    "\n",
    "if a > b:\n",
    "    a, b = b, a  # a와 b를 오름차순으로 정렬\n",
    "    \n",
    "sum = 0\n",
    "for i in range(a, b+1) :\n",
    "    if i < b :\n",
    "        print(f'{i} + ',end = '')\n",
    "    else :\n",
    "        print(f'{i} = ',end = '')\n",
    "    sum += i\n",
    "    \n",
    "print(sum)"
   ]
  },
  {
   "cell_type": "code",
   "execution_count": null,
   "id": "dfa8d27e-c959-45a4-b566-bb1687996a81",
   "metadata": {},
   "outputs": [],
   "source": []
  }
 ],
 "metadata": {
  "kernelspec": {
   "display_name": "Python 3 (ipykernel)",
   "language": "python",
   "name": "python3"
  },
  "language_info": {
   "codemirror_mode": {
    "name": "ipython",
    "version": 3
   },
   "file_extension": ".py",
   "mimetype": "text/x-python",
   "name": "python",
   "nbconvert_exporter": "python",
   "pygments_lexer": "ipython3",
   "version": "3.9.7"
  }
 },
 "nbformat": 4,
 "nbformat_minor": 5
}
