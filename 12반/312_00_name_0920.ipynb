{
 "cells": [
  {
   "cell_type": "markdown",
   "id": "9bab563a-0fd3-46e7-b437-06f2f9a1a888",
   "metadata": {},
   "source": [
    "### 2022.09.20 6교시"
   ]
  },
  {
   "cell_type": "code",
   "execution_count": null,
   "id": "26e9c9e2-36c1-4948-8b19-485bfb370c34",
   "metadata": {},
   "outputs": [],
   "source": [
    "#6교시 시작하면 클래스룸에 전시간 복습 코딩 올려뒀으니 코딩하고 있어요"
   ]
  }
 ],
 "metadata": {
  "kernelspec": {
   "display_name": "Python 3 (ipykernel)",
   "language": "python",
   "name": "python3"
  },
  "language_info": {
   "codemirror_mode": {
    "name": "ipython",
    "version": 3
   },
   "file_extension": ".py",
   "mimetype": "text/x-python",
   "name": "python",
   "nbconvert_exporter": "python",
   "pygments_lexer": "ipython3",
   "version": "3.9.7"
  }
 },
 "nbformat": 4,
 "nbformat_minor": 5
}
