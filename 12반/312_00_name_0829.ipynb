{
 "cells": [
  {
   "cell_type": "markdown",
   "id": "70d57f4d-3aa7-49f5-bd78-c212be81f0b0",
   "metadata": {},
   "source": [
    "## 2022.08.29 1교시\n",
    "   - 결과 : 지원 코로나, 나영 정원 코로나 검사, 김동환 지각\n",
    "   - 취업 : 예진, 이봄"
   ]
  },
  {
   "cell_type": "markdown",
   "id": "e6b96bc8-5173-42a2-915b-89be4114d432",
   "metadata": {},
   "source": [
    "## 그래프 그리기\n",
    "### 1.1 데이터 시각화 도구 사용하기 \n",
    " - 데이터 시각화 : 데이터를 이해하기 쉽게 시각적으로 표현하는 것\n",
    "모듈, 패키지, 라이브러리\n",
    "- 모듈 : 특정 기능이 정의되어 있는 단일파일\n",
    "- 패키지 : 여러 모듈을 모아 둔 것\n",
    "- 라이브러리 : 모듈과 패키지를 모아 둔 것\n",
    "  표준 라이브러리  / 외부라이브러리\n"
   ]
  },
  {
   "cell_type": "code",
   "execution_count": null,
   "id": "9d8d03d5-c0c6-459f-94ca-2b4f2b93abb9",
   "metadata": {},
   "outputs": [],
   "source": [
    "#import matplotlib.pyplot as plt\n",
    "#as는 명령어를 줄여서 사용 할때 쓰는 명령어\n",
    "\n",
    "# 꺽은선 그래프 그리기\n",
    "# 명령어는 plot()\n",
    "\n",
    "import matplotlib.pyplot as plt\n",
    "plt.plot([1,2,3,4,5],[1,5,7,3,7],'g')\n",
    "plt.title('한글')\n",
    "plt.show()"
   ]
  },
  {
   "cell_type": "markdown",
   "id": "5454ad3b-0423-4c87-932f-e44dbb68e80f",
   "metadata": {},
   "source": [
    "## 2.1 막대그래프 그리기\n"
   ]
  },
  {
   "cell_type": "code",
   "execution_count": null,
   "id": "091af5f8-9804-4b9a-bb7b-db780dcb37a2",
   "metadata": {
    "tags": []
   },
   "outputs": [],
   "source": [
    "import matplotlib.font_manager as fm\n",
    "\n",
    "font_list = fm.findSystemFonts(fontpaths = None, fontext = 'ttf')\n",
    "font_list[:]"
   ]
  },
  {
   "cell_type": "code",
   "execution_count": null,
   "id": "4a839a37-a738-4cad-ad40-28dc0ba22bc2",
   "metadata": {},
   "outputs": [],
   "source": [
    "#한글폰트 적용하기\n",
    "\n",
    "import matplotlib\n",
    "import matplotlib.font_manager as fm\n",
    "\n",
    "fm.get_fontconfig_fonts()\n",
    "font_location = 'C:/Windows/Fonts/malgunbd.ttf' # For Windows\n",
    "font_name = fm.FontProperties(fname=font_location).get_name()\n",
    "matplotlib.rc('font', family=font_name)"
   ]
  },
  {
   "cell_type": "code",
   "execution_count": 19,
   "id": "4f73e4f4-49e6-406d-91c5-e931ceb56af3",
   "metadata": {},
   "outputs": [
    {
     "data": {
      "image/png": "[encoded data removed]",
      "text/plain": [
       "<Figure size 432x288 with 1 Axes>"
      ]
     },
     "metadata": {
      "needs_background": "light"
     },
     "output_type": "display_data"
    }
   ],
   "source": [
    "import matplotlib.pyplot as plt\n",
    "plt.plot([1,2,3,4,5],[1,5,7,3,7],'g')\n",
    "plt.title('월별 판매 현황')\n",
    "plt.show()"
   ]
  },
  {
   "cell_type": "code",
   "execution_count": null,
   "id": "54c0f5a7-ffaa-45f4-936c-ebe220d08ae9",
   "metadata": {},
   "outputs": [],
   "source": []
  },
  {
   "cell_type": "code",
   "execution_count": null,
   "id": "c2fffa49-9878-4120-a606-f019157da711",
   "metadata": {},
   "outputs": [],
   "source": []
  }
 ],
 "metadata": {
  "kernelspec": {
   "display_name": "Python 3 (ipykernel)",
   "language": "python",
   "name": "python3"
  },
  "language_info": {
   "codemirror_mode": {
    "name": "ipython",
    "version": 3
   },
   "file_extension": ".py",
   "mimetype": "text/x-python",
   "name": "python",
   "nbconvert_exporter": "python",
   "pygments_lexer": "ipython3",
   "version": "3.9.7"
  }
 },
 "nbformat": 4,
 "nbformat_minor": 5
}
