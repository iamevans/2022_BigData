{
 "cells": [
  {
   "cell_type": "markdown",
   "id": "408a8bc2-9c94-4d85-923f-23f9c0d12d89",
   "metadata": {},
   "source": [
    "## 2022-08-23 5교시"
   ]
  },
  {
   "cell_type": "markdown",
   "id": "5e686ff7-3ee2-410f-8e80-bdd25d164871",
   "metadata": {},
   "source": [
    "0. 출결 취업 예진, 이봄 / 질병조퇴 지원 / 미인정조퇴 동현 4명\n",
    "1. 세정수의 최댓값 구하기"
   ]
  },
  {
   "cell_type": "code",
   "execution_count": 4,
   "id": "4913ea45-812c-47e0-80ae-63de1ff3710e",
   "metadata": {},
   "outputs": [
    {
     "name": "stdout",
     "output_type": "stream",
     "text": [
      "세 정수의 최댓값을 구합니다.\n"
     ]
    },
    {
     "name": "stdin",
     "output_type": "stream",
     "text": [
      "정수 a의 값을 입력하세요.:  20\n",
      "정수 b의 값을 입력하세요.:  10\n",
      "정수 c의 값을 입력하세요.:  5\n"
     ]
    },
    {
     "name": "stdout",
     "output_type": "stream",
     "text": [
      "최댓값은 20입니다.\n"
     ]
    }
   ],
   "source": [
    "# 세정수를 입력받아 최댓값 구하기\n",
    "\n",
    "print('세 정수의 최댓값을 구합니다.')\n",
    "a = int(input('정수 a의 값을 입력하세요.: '))\n",
    "b = int(input('정수 b의 값을 입력하세요.: '))\n",
    "c = int(input('정수 c의 값을 입력하세요.: '))\n",
    "\n",
    "d = a #a의 값을 d저장하세요\n",
    "if b > d : #만약 d보다 b가 크면\n",
    "    d = b  #d에 b값을 입력\n",
    "if c > d : #만약 c가 d보다 크면\n",
    "    d = c  #d에 c값을 입력\n",
    "\n",
    "print(f'최댓값은 {d}입니다.')"
   ]
  },
  {
   "cell_type": "markdown",
   "id": "f59ae331-f5de-4b2e-badf-f0e5e9d0925f",
   "metadata": {},
   "source": [
    "6교시 <br>\n",
    "2. 3개로 분기하는 조건문 if"
   ]
  },
  {
   "cell_type": "code",
   "execution_count": 7,
   "id": "5aa4324d-c693-4e18-8c6d-79f8e124a876",
   "metadata": {},
   "outputs": [
    {
     "name": "stdin",
     "output_type": "stream",
     "text": [
      "정수를 입력하세요. 10\n"
     ]
    },
    {
     "name": "stdout",
     "output_type": "stream",
     "text": [
      "C\n"
     ]
    }
   ],
   "source": [
    "# 3개로 분기하는 조건문 if\n",
    "\n",
    "n = int(input('정수를 입력하세요.'))\n",
    "\n",
    "if n == 1:   # 만약에 n이 1과 같다면\n",
    "    print('A') # A를 출력\n",
    "elif n == 2: # 만약에 n이 2와 같다면\n",
    "    print('B') # B를 출력\n",
    "else : # 그렇지 않으면 1,2가 아니면\n",
    "    print('C')"
   ]
  },
  {
   "cell_type": "markdown",
   "id": "400900fe-7f49-4a64-b8d2-c901589c98a1",
   "metadata": {},
   "source": [
    "3. 4개로 분기 하려면 어떻게 조건문을 수정할까요 <br>\n",
    "   1 -> A ,2 -> B, 3 -> C, D"
   ]
  },
  {
   "cell_type": "code",
   "execution_count": 8,
   "id": "2862d5dc-689b-4f22-82c7-0e656a6ea978",
   "metadata": {},
   "outputs": [
    {
     "name": "stdin",
     "output_type": "stream",
     "text": [
      "정수를 입력하세요. 5\n"
     ]
    },
    {
     "name": "stdout",
     "output_type": "stream",
     "text": [
      "pass\n"
     ]
    }
   ],
   "source": [
    "# 4개로 분기하는 조건문 if\n",
    "\n",
    "n = int(input('정수를 입력하세요.'))\n",
    "\n",
    "if n == 1:   # 만약에 n이 1과 같다면\n",
    "    print('A') # A를 출력\n",
    "elif n == 2: # 만약에 n이 2와 같다면\n",
    "    print('B') # B를 출력\n",
    "elif n == 3: # 만약에 n이 3와 같다면\n",
    "    print('C') # C를 출력\n",
    "else : # 그렇지 않으면 == 1,2,3이 아니면\n",
    "    print('pass')"
   ]
  },
  {
   "cell_type": "markdown",
   "id": "c9b5370a-265e-42ee-b903-172b0671da57",
   "metadata": {},
   "source": [
    "3. 1부터 n까지 정수의 합을 구하라"
   ]
  },
  {
   "cell_type": "code",
   "execution_count": 9,
   "id": "14818211-0843-4ba0-bc71-4f4c5195470b",
   "metadata": {},
   "outputs": [
    {
     "name": "stdout",
     "output_type": "stream",
     "text": [
      "1부터 n까지 정수의 합을 구합니다.\n"
     ]
    },
    {
     "name": "stdin",
     "output_type": "stream",
     "text": [
      "n값을 입력하세요.:  10\n"
     ]
    },
    {
     "name": "stdout",
     "output_type": "stream",
     "text": [
      "1부터 10까지 정수의 합은 55입니다.\n"
     ]
    }
   ],
   "source": [
    "# 1부터 n까지 정수의 합 구하기1 (while문)\n",
    "\n",
    "print('1부터 n까지 정수의 합을 구합니다.')\n",
    "n = int(input('n값을 입력하세요.: '))\n",
    "\n",
    "sum = 0\n",
    "i = 1\n",
    "\n",
    "while i <= n:\n",
    "  sum = sum + i    # sum += 1\n",
    "  i = i + 1        # i += 1\n",
    "    \n",
    "print(f'1부터 {n}까지 정수의 합은 {sum}입니다.')"
   ]
  },
  {
   "cell_type": "code",
   "execution_count": null,
   "id": "f725f22a-01ba-4f6c-960e-eb4fe1c7e45e",
   "metadata": {},
   "outputs": [],
   "source": []
  }
 ],
 "metadata": {
  "kernelspec": {
   "display_name": "Python 3 (ipykernel)",
   "language": "python",
   "name": "python3"
  },
  "language_info": {
   "codemirror_mode": {
    "name": "ipython",
    "version": 3
   },
   "file_extension": ".py",
   "mimetype": "text/x-python",
   "name": "python",
   "nbconvert_exporter": "python",
   "pygments_lexer": "ipython3",
   "version": "3.9.7"
  }
 },
 "nbformat": 4,
 "nbformat_minor": 5
}
