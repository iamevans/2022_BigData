{
 "cells": [
  {
   "cell_type": "markdown",
   "id": "2ba5214b-6400-424d-a2df-f8ec0c381980",
   "metadata": {},
   "source": [
    "## 2022.0824 1교시"
   ]
  },
  {
   "cell_type": "markdown",
   "id": "84b891b3-cfbf-40ca-b28c-5e11e981c1e5",
   "metadata": {},
   "source": [
    "1. 1에서 n까지 정수의 합 구하기"
   ]
  },
  {
   "cell_type": "code",
   "execution_count": 2,
   "id": "c7417b24-dee5-49f6-8915-2af2ef7f953a",
   "metadata": {},
   "outputs": [
    {
     "name": "stdout",
     "output_type": "stream",
     "text": [
      "1부터 n까지 정수의 합을 구합니다.\n"
     ]
    },
    {
     "name": "stdin",
     "output_type": "stream",
     "text": [
      "n값을 입력하세요 : 10\n"
     ]
    },
    {
     "name": "stdout",
     "output_type": "stream",
     "text": [
      "1부터 10까지 정수의 합은 45입니다.\n"
     ]
    }
   ],
   "source": [
    "# 1부터 n까지 정수의 합 구하기 for문\n",
    "\n",
    "print('1부터 n까지 정수의 합을 구합니다.')\n",
    "\n",
    "n = int(input('n값을 입력하세요 :'))\n",
    "\n",
    "#초기값 설정\n",
    "sum = 0\n",
    "\n",
    "#for문 작성\n",
    "for i in range(1, n+1) :\n",
    "    sum += i #sum에 i값을 누적하여 더함\n",
    "    \n",
    "print(f'1부터 {n}까지 정수의 합은 {sum}입니다.')"
   ]
  },
  {
   "cell_type": "code",
   "execution_count": 3,
   "id": "26b2a3d9-a694-4dad-856c-4d67d659baa3",
   "metadata": {},
   "outputs": [
    {
     "name": "stdout",
     "output_type": "stream",
     "text": [
      "1부터 n까지 정수의 합을 구합니다.\n"
     ]
    },
    {
     "name": "stdin",
     "output_type": "stream",
     "text": [
      "n값을 입력하세요. 10\n"
     ]
    },
    {
     "name": "stdout",
     "output_type": "stream",
     "text": [
      "1부터 10까지 정수의 합은 55입니다.\n"
     ]
    }
   ],
   "source": [
    "#가우스의 덧셈\n",
    "#1부터 n까지 정수의 합\n",
    "\n",
    "print('1부터 n까지 정수의 합을 구합니다.')\n",
    "n = int(input('n값을 입력하세요.'))\n",
    "        \n",
    "sum = n*(n+1)//2\n",
    "\n",
    "print(f'1부터 {n}까지 정수의 합은 {sum}입니다.')"
   ]
  },
  {
   "cell_type": "code",
   "execution_count": null,
   "id": "2f9894da-34e3-4137-a7e9-166eb4467e75",
   "metadata": {},
   "outputs": [],
   "source": []
  }
 ],
 "metadata": {
  "kernelspec": {
   "display_name": "Python 3 (ipykernel)",
   "language": "python",
   "name": "python3"
  },
  "language_info": {
   "codemirror_mode": {
    "name": "ipython",
    "version": 3
   },
   "file_extension": ".py",
   "mimetype": "text/x-python",
   "name": "python",
   "nbconvert_exporter": "python",
   "pygments_lexer": "ipython3",
   "version": "3.9.7"
  }
 },
 "nbformat": 4,
 "nbformat_minor": 5
}
