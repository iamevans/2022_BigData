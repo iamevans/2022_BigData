{
 "cells": [
  {
   "cell_type": "markdown",
   "id": "af1c3f10-72f2-4627-a4b1-eb286c94e3a7",
   "metadata": {},
   "source": [
    "## 2022.08.31 1교시"
   ]
  },
  {
   "cell_type": "code",
   "execution_count": 1,
   "id": "d9573573-1823-47e1-b029-7935f041e917",
   "metadata": {},
   "outputs": [],
   "source": [
    "#한글폰트 적용하기\n",
    "\n",
    "import matplotlib\n",
    "import matplotlib.font_manager as fm\n",
    "\n",
    "fm.get_fontconfig_fonts()\n",
    "font_location = 'C:/Windows/Fonts/malgunbd.ttf' # For Windows\n",
    "font_name = fm.FontProperties(fname=font_location).get_name()\n",
    "matplotlib.rc('font', family=font_name)"
   ]
  },
  {
   "cell_type": "code",
   "execution_count": 2,
   "id": "b6fee83a-c229-4665-8aaf-7f186c4ef5f9",
   "metadata": {},
   "outputs": [
    {
     "name": "stderr",
     "output_type": "stream",
     "text": [
      "findfont: Font family ['malgun'] not found. Falling back to DejaVu Sans.\n",
      "findfont: Font family ['malgun'] not found. Falling back to DejaVu Sans.\n"
     ]
    },
    {
     "data": {
      "image/png": "[encoded data removed]",
      "text/plain": [
       "<Figure size 432x288 with 1 Axes>"
      ]
     },
     "metadata": {
      "needs_background": "light"
     },
     "output_type": "display_data"
    }
   ],
   "source": [
    "#꺽은선 형 그래프 그리기\n",
    "\n",
    "import matplotlib.pyplot as plt\n",
    "\n",
    "mon = ['3월', '4월', '5월', '6월', '7월']\n",
    "sales = [1,5,7,3,7]\n",
    "\n",
    "#font\n",
    "plt.rc('font', family='malgun')\n",
    "#제목\n",
    "plt.title('월별 판매 실적')\n",
    "#x,y축, 색상, 범례\n",
    "plt.plot(mon, sales, 'r', label = '단위:개수')\n",
    "plt.legend()\n",
    "plt.show()\n"
   ]
  },
  {
   "cell_type": "markdown",
   "id": "629996c5-5dd2-4d16-b0ee-fba7fd85770c",
   "metadata": {},
   "source": [
    "## 3. 다양한 그래프\n",
    "### plt.bar() : 막대그래프 - 세로형"
   ]
  },
  {
   "cell_type": "code",
   "execution_count": 7,
   "id": "830933ec-d91a-47e8-9733-8041fa8d42a0",
   "metadata": {},
   "outputs": [
    {
     "data": {
      "image/png": "[encoded data removed]",
      "text/plain": [
       "<Figure size 432x288 with 1 Axes>"
      ]
     },
     "metadata": {
      "needs_background": "light"
     },
     "output_type": "display_data"
    }
   ],
   "source": [
    "#제목\n",
    "plt.title('월별 판매 실적')\n",
    "#bar 차트는 x,y값이 모두 존재해야 한다.\n",
    "#색상지정\n",
    "plt.bar(mon,sales, color='r')\n",
    "plt.show()"
   ]
  },
  {
   "cell_type": "markdown",
   "id": "0487bee9-64e3-42b2-ae20-644a294bd545",
   "metadata": {},
   "source": [
    "### range() 사용하기\n",
    "\n",
    "### range(시작숫자, 종료숫자, 간격)\n",
    "\n",
    "시작숫자부터 종료숫자까지 간격을 두어 숫자를 선택함 <br/>\n",
    "```\n",
    "range(2, 11, 2) \n",
    "```\n",
    "2부터 11까지 간격 2를 두고 숫자 선택\n",
    "-> 2, 4, 6, 8, 10 "
   ]
  },
  {
   "cell_type": "code",
   "execution_count": 13,
   "id": "083d78b2-0cf4-44c9-962c-efa4a7cd569e",
   "metadata": {},
   "outputs": [
    {
     "data": {
      "image/png": "[encoded data removed]",
      "text/plain": [
       "<Figure size 432x288 with 1 Axes>"
      ]
     },
     "metadata": {
      "needs_background": "light"
     },
     "output_type": "display_data"
    }
   ],
   "source": [
    "#x값 range()이용하기\n",
    "#제목\n",
    "plt.title('월별 판매 실적')\n",
    "#bar 차트는 x,y값이 모두 존재해야 한다.\n",
    "#range(시작값, 종료값+1) 색상 그린\n",
    "#plt.bar(range(3,8), sales, color='g')\n",
    "plt.bar(range(2,11,2), sales, color='g')\n",
    "plt.show()"
   ]
  },
  {
   "cell_type": "code",
   "execution_count": null,
   "id": "da5ecf56-1b71-4311-baae-b10efc4b163b",
   "metadata": {},
   "outputs": [],
   "source": []
  }
 ],
 "metadata": {
  "kernelspec": {
   "display_name": "Python 3 (ipykernel)",
   "language": "python",
   "name": "python3"
  },
  "language_info": {
   "codemirror_mode": {
    "name": "ipython",
    "version": 3
   },
   "file_extension": ".py",
   "mimetype": "text/x-python",
   "name": "python",
   "nbconvert_exporter": "python",
   "pygments_lexer": "ipython3",
   "version": "3.9.7"
  }
 },
 "nbformat": 4,
 "nbformat_minor": 5
}
