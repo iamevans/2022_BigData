{
 "cells": [
  {
   "cell_type": "markdown",
   "id": "1cdb37a4-c082-4445-849f-9b2c8c25e27b",
   "metadata": {},
   "source": [
    "# 310_00_name_0822"
   ]
  },
  {
   "cell_type": "markdown",
   "id": "39ab4926-a45c-45b2-8a34-5fe3d933e078",
   "metadata": {},
   "source": [
    "조건문(if) 제어문"
   ]
  },
  {
   "cell_type": "code",
   "execution_count": 8,
   "id": "90b351d5-a1a5-46a2-9943-ee60c7f4aa44",
   "metadata": {},
   "outputs": [
    {
     "name": "stdout",
     "output_type": "stream",
     "text": [
      "a는 짝수\n"
     ]
    }
   ],
   "source": [
    "a = 6\n",
    "if a % 2 == 0 :\n",
    "    print(\"a는 짝수\")\n",
    "else :\n",
    "    print(\"a는 홀수\")"
   ]
  },
  {
   "cell_type": "markdown",
   "id": "2e44ba72-d5eb-4c49-b474-8aad78dfdcc3",
   "metadata": {},
   "source": [
    "문제 : 음수 양수를 구분해 봅시다."
   ]
  },
  {
   "cell_type": "code",
   "execution_count": 12,
   "id": "7c3a137c-0200-496a-93e9-43fe42a0aeed",
   "metadata": {},
   "outputs": [
    {
     "name": "stdout",
     "output_type": "stream",
     "text": [
      "b는 0\n"
     ]
    }
   ],
   "source": [
    "b = 0\n",
    "if b > 0 :\n",
    "    print(\"b는 양수\")\n",
    "elif b < 0 :\n",
    "    print(\"b는 음수\")\n",
    "else :\n",
    "    print(\"b는 0\")"
   ]
  },
  {
   "cell_type": "markdown",
   "id": "6457ffc0-1ba4-4820-ac16-6426d6ed379b",
   "metadata": {},
   "source": [
    "반복문 for문"
   ]
  },
  {
   "cell_type": "code",
   "execution_count": 14,
   "id": "d67f4235-799e-4d4d-86f0-dd22da423282",
   "metadata": {},
   "outputs": [
    {
     "name": "stdout",
     "output_type": "stream",
     "text": [
      "1\n",
      "2\n",
      "3\n"
     ]
    }
   ],
   "source": [
    "c = [1,2,3]\n",
    "for i in c :\n",
    "    print(i)"
   ]
  },
  {
   "cell_type": "markdown",
   "id": "421d542a-5edd-436f-84b0-53d3f0b1343a",
   "metadata": {},
   "source": [
    "리스트 출력시 2배인값을 출력해 봅시다."
   ]
  },
  {
   "cell_type": "code",
   "execution_count": 1,
   "id": "4f3eb9ff-09d9-4a98-a0b6-612077a1961b",
   "metadata": {},
   "outputs": [
    {
     "name": "stdout",
     "output_type": "stream",
     "text": [
      "2\n",
      "4\n",
      "6\n"
     ]
    }
   ],
   "source": [
    "c = [1,2,3]\n",
    "for i in c :\n",
    "    print(i*2)"
   ]
  },
  {
   "cell_type": "code",
   "execution_count": null,
   "id": "e10e775b-8498-4ccb-b2ad-4cdbe43f4240",
   "metadata": {},
   "outputs": [],
   "source": []
  }
 ],
 "metadata": {
  "kernelspec": {
   "display_name": "Python 3 (ipykernel)",
   "language": "python",
   "name": "python3"
  },
  "language_info": {
   "codemirror_mode": {
    "name": "ipython",
    "version": 3
   },
   "file_extension": ".py",
   "mimetype": "text/x-python",
   "name": "python",
   "nbconvert_exporter": "python",
   "pygments_lexer": "ipython3",
   "version": "3.9.7"
  }
 },
 "nbformat": 4,
 "nbformat_minor": 5
}
