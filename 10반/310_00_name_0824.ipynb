{
 "cells": [
  {
   "cell_type": "markdown",
   "id": "d6ab21af-8113-4bf5-9892-bc85faf945f3",
   "metadata": {},
   "source": [
    "## 2022.08.24 5,6교시"
   ]
  },
  {
   "cell_type": "markdown",
   "id": "f019e37d-1e2c-4c77-bc4d-89d07f4df7f6",
   "metadata": {},
   "source": [
    "- 문제1. 1에서 n까지 정수의 합을 구하세요\n",
    "- 반복문 while문 for문"
   ]
  },
  {
   "cell_type": "code",
   "execution_count": 2,
   "id": "344de3b5-ef81-43e5-8fcf-e70265699686",
   "metadata": {},
   "outputs": [
    {
     "name": "stdout",
     "output_type": "stream",
     "text": [
      "1부터 n까지 정수의 합을 구합니다.\n"
     ]
    },
    {
     "name": "stdin",
     "output_type": "stream",
     "text": [
      "n값을 입력하세요.:  10\n"
     ]
    },
    {
     "name": "stdout",
     "output_type": "stream",
     "text": [
      "1부터 10까지 정수의 합은 55입니다.\n"
     ]
    }
   ],
   "source": [
    "# 1부터 n까지 정수의 합 구하기1 (while문)\n",
    "\n",
    "print('1부터 n까지 정수의 합을 구합니다.') # 출력\n",
    "n = int(input('n값을 입력하세요.: ')) #입력 정수(int)\n",
    "\n",
    "# 변수의 초기화\n",
    "sum = 0\n",
    "i = 1\n",
    "\n",
    "#반복문\n",
    "while i <= n: \n",
    "  sum = sum + i    # sum += 1 #sum변수 값을 누적한다.\n",
    "  i = i + 1        # i += 1 \n",
    "\n",
    "\n",
    "print(f'1부터 {n}까지 정수의 합은 {sum}입니다.') #f-string #format"
   ]
  },
  {
   "cell_type": "markdown",
   "id": "1bfd6f68-e941-44c5-91f6-1cab11c68192",
   "metadata": {},
   "source": [
    "- for문을 이용해 봅니다."
   ]
  },
  {
   "cell_type": "code",
   "execution_count": 4,
   "id": "9d03f00b-7728-4cd3-b64b-d5dbe5e27f64",
   "metadata": {},
   "outputs": [
    {
     "name": "stdout",
     "output_type": "stream",
     "text": [
      "1부터 n까지 정수의 합을 구합니다.\n"
     ]
    },
    {
     "name": "stdin",
     "output_type": "stream",
     "text": [
      "n값을 입력하세요.:  10\n"
     ]
    },
    {
     "name": "stdout",
     "output_type": "stream",
     "text": [
      "1부터 10까지 정수의 합은 45입니다.\n"
     ]
    }
   ],
   "source": [
    "# 1부터 n까지 정수의 합 구하기2 (for문)\n",
    "\n",
    "print('1부터 n까지 정수의 합을 구합니다.')\n",
    "n = int(input('n값을 입력하세요.: '))\n",
    "\n",
    "#초기화\n",
    "sum = 0\n",
    "\n",
    "#반복문\n",
    "for i in range(1, n):\n",
    "    sum += i # sum에 i를 더함 #누적\n",
    "\n",
    "\n",
    "print(f'1부터 {n}까지 정수의 합은 {sum}입니다.')"
   ]
  },
  {
   "cell_type": "code",
   "execution_count": 5,
   "id": "994efba9-73c8-4490-b953-d8f221f07acc",
   "metadata": {},
   "outputs": [
    {
     "name": "stdout",
     "output_type": "stream",
     "text": [
      "1부터 n까지 정수의 합을 구합니다.\n"
     ]
    },
    {
     "name": "stdin",
     "output_type": "stream",
     "text": [
      "n값을 입력하세요.:  10\n"
     ]
    },
    {
     "name": "stdout",
     "output_type": "stream",
     "text": [
      "1부터 10까지 정수의 합은 55입니다.\n"
     ]
    }
   ],
   "source": [
    "# 1부터 n까지 정수의 합 구하기3 (가우스의 덧셈)\n",
    "\n",
    "print('1부터 n까지 정수의 합을 구합니다.')\n",
    "n = int(input('n값을 입력하세요.: '))\n",
    "\n",
    "sum = n*(n+1)//2\n",
    "\n",
    "print(f'1부터 {n}까지 정수의 합은 {sum}입니다.')"
   ]
  },
  {
   "cell_type": "markdown",
   "id": "9d6d6dae-40d7-41ff-bbd1-292cf25cd0e6",
   "metadata": {},
   "source": [
    "문제2. a부터 b까지 정수의 합을 구하고 최종값을 출력하세요\n",
    "\n",
    "- for문을 활용하여 a부터 b까지 정수의 합 구하기"
   ]
  },
  {
   "cell_type": "code",
   "execution_count": 8,
   "id": "596591e2-efe5-4637-af91-607ba984d8e6",
   "metadata": {},
   "outputs": [
    {
     "name": "stdout",
     "output_type": "stream",
     "text": [
      "a부터 b까지 정수의 합 구하기\n"
     ]
    },
    {
     "name": "stdin",
     "output_type": "stream",
     "text": [
      "정수 a값을 입력하세요:  4\n",
      "정수 b값을 입력하세요:  2\n"
     ]
    },
    {
     "name": "stdout",
     "output_type": "stream",
     "text": [
      "2부터 4까지의 정수의 합은 9이다\n"
     ]
    }
   ],
   "source": [
    "#a부터 b까지 정수의 합 구하기(for문)\n",
    "\n",
    "print('a부터 b까지 정수의 합 구하기')\n",
    "a = int(input('정수 a값을 입력하세요: '))\n",
    "b = int(input('정수 b값을 입력하세요: '))\n",
    "\n",
    "if a > b:\n",
    "    a, b = b, a #a와 b 순서 바꿈, 오름차순 정리\n",
    "\n",
    "sum = 0 #sum 초기화\n",
    "for i in range(a, b+1):\n",
    "    sum += i\n",
    "\n",
    "print(f'{a}부터 {b}까지의 정수의 합은 {sum}이다')"
   ]
  },
  {
   "cell_type": "code",
   "execution_count": 11,
   "id": "1a12501f-772b-48dd-9c94-9ccfea2eafc5",
   "metadata": {},
   "outputs": [
    {
     "name": "stdout",
     "output_type": "stream",
     "text": [
      "a부터 b까지 정수의 합 구하기\n"
     ]
    },
    {
     "name": "stdin",
     "output_type": "stream",
     "text": [
      "정수 a값을 입력하세요:  1\n",
      "정수 b값을 입력하세요:  10\n"
     ]
    },
    {
     "name": "stdout",
     "output_type": "stream",
     "text": [
      "1+2+3+4+5+6+7+8+9+10 = 55\n"
     ]
    }
   ],
   "source": [
    "print('a부터 b까지 정수의 합 구하기')\n",
    "a = int(input('정수 a값을 입력하세요: '))\n",
    "b = int(input('정수 b값을 입력하세요: '))\n",
    "\n",
    "sum = 0\n",
    "\n",
    "for i in range(a, b):\n",
    "    print(f'{i}+', end='')\n",
    "    sum += i #sum=sum+i\n",
    "\n",
    "print(f'{b} = ', end='')\n",
    "sum += b #sum=sum+b\n",
    "print(sum)"
   ]
  },
  {
   "cell_type": "code",
   "execution_count": null,
   "id": "7bb72974-2aee-4f5b-ad1f-25230ce21bb8",
   "metadata": {},
   "outputs": [],
   "source": []
  }
 ],
 "metadata": {
  "kernelspec": {
   "display_name": "Python 3 (ipykernel)",
   "language": "python",
   "name": "python3"
  },
  "language_info": {
   "codemirror_mode": {
    "name": "ipython",
    "version": 3
   },
   "file_extension": ".py",
   "mimetype": "text/x-python",
   "name": "python",
   "nbconvert_exporter": "python",
   "pygments_lexer": "ipython3",
   "version": "3.9.7"
  }
 },
 "nbformat": 4,
 "nbformat_minor": 5
}
