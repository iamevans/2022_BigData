{
 "cells": [
  {
   "cell_type": "markdown",
   "id": "a8efc8c4-fbd4-4181-a8a9-801d0b6c3f63",
   "metadata": {},
   "source": [
    "## 2022.08.29 5,6교시"
   ]
  },
  {
   "cell_type": "code",
   "execution_count": null,
   "id": "c0a1b70e-b5d3-4022-afb5-a6de34a70e27",
   "metadata": {},
   "outputs": [],
   "source": [
    "import matplotlib.pyplot as plt\n",
    "plt.plot([1,5,7,3,7])\n",
    "plt.show()"
   ]
  },
  {
   "cell_type": "markdown",
   "id": "1086116f-e78e-4098-b504-841cd1ddb4b9",
   "metadata": {},
   "source": [
    "### 1. matplotlib 라이브러리\n",
    "\n",
    "> 라이브러리 : 모듈, 패키지를 포함한 명령어<br>\n",
    "> 표준라이브러리 : 파이썬 설치시 같이 설치되는 패키지 <br>\n",
    "> 외부라이브러리 : 따로 설치를 해야 사용할 수 있는 패키지<br>\n",
    "\n",
    "> import 라이브러리명 as 닉네임"
   ]
  },
  {
   "cell_type": "code",
   "execution_count": null,
   "id": "a28477e6-2726-4a15-a143-6a5e1be948c7",
   "metadata": {},
   "outputs": [],
   "source": [
    "#윈도우에 설치된 폰트를 검색\n",
    "import matplotlib.font_manager as fm\n",
    "\n",
    "font_list = fm.findSystemFonts(fontpaths = None, fontext = 'ttf')\n",
    "font_list[:]"
   ]
  },
  {
   "cell_type": "code",
   "execution_count": null,
   "id": "6ef43f42-9bb3-4552-afd5-8378cd12631c",
   "metadata": {},
   "outputs": [],
   "source": [
    "#한글폰트 지정\n",
    "import matplotlib\n",
    "import matplotlib.font_manager as fm\n",
    "\n",
    "fm.get_fontconfig_fonts()\n",
    "font_location = 'C:/Windows/Fonts/malgunbd.ttf' # For Windows\n",
    "font_name = fm.FontProperties(fname=font_location).get_name()\n",
    "matplotlib.rc('font', family=font_name)"
   ]
  },
  {
   "cell_type": "code",
   "execution_count": null,
   "id": "b9c7354e-2e6f-41cf-8688-fb3629066318",
   "metadata": {},
   "outputs": [],
   "source": [
    "sales = [1,5,7,3,7]\n",
    "# 매출 그래프\n",
    "plt.plot(sales) # 값이 하나만 있으면 y축데이터\n",
    "plt.title('월별 매출 현황')\n",
    "plt.show()"
   ]
  },
  {
   "cell_type": "markdown",
   "id": "dee3fa6c-75ef-40b8-b827-f457789afdd8",
   "metadata": {},
   "source": [
    "### x축 추가하기\n",
    "```\n",
    "plt.plot(x축, y축)\n",
    "plt.show()\n",
    "```"
   ]
  },
  {
   "cell_type": "code",
   "execution_count": null,
   "id": "6c5b62b9-671f-4642-b956-6cc9d726713f",
   "metadata": {},
   "outputs": [],
   "source": [
    "mon = ['3월','4월','5월','6월','7월']\n",
    "sales = [1,5,7,3,7]\n",
    "\n",
    "#x축, y축\n",
    "plt.plot(mon, sales)\n",
    "plt.title('월별 판매 현황')\n",
    "plt.show()"
   ]
  },
  {
   "cell_type": "markdown",
   "id": "cf169974-8bdd-4db5-9370-a8ba17d564ea",
   "metadata": {},
   "source": [
    "### 그래프 색상 변경\n",
    "\n",
    "```\n",
    "# 그래프 그리는 명령어에 color 옵션 추가\n",
    "plt.plot(x축, y축, color = 'r')\n",
    "```"
   ]
  },
  {
   "cell_type": "code",
   "execution_count": null,
   "id": "08c50483-2816-49d1-8c77-cfc85497dfe4",
   "metadata": {},
   "outputs": [],
   "source": [
    "#해상도설정 plt.figure(dpi=100)\n",
    "plt.figure(dpi=100)\n",
    "plt.title('월별 판매 실적')\n",
    "\n",
    "#그래프 색상 변경\n",
    "#범례추가 label = '단위:개수'\n",
    "plt.plot(mon, sales, 'b', label = '단위:개수')\n",
    "plt.legend()\n",
    "plt.show()"
   ]
  },
  {
   "cell_type": "code",
   "execution_count": null,
   "id": "aea2ebfa-99ed-4ec7-8216-8ed369c5cbd2",
   "metadata": {},
   "outputs": [],
   "source": [
    "plt.bar(mon, sales)"
   ]
  },
  {
   "cell_type": "code",
   "execution_count": null,
   "id": "bb5a7039-e4de-415e-b441-f77308ca066c",
   "metadata": {},
   "outputs": [],
   "source": []
  }
 ],
 "metadata": {
  "kernelspec": {
   "display_name": "Python 3 (ipykernel)",
   "language": "python",
   "name": "python3"
  },
  "language_info": {
   "codemirror_mode": {
    "name": "ipython",
    "version": 3
   },
   "file_extension": ".py",
   "mimetype": "text/x-python",
   "name": "python",
   "nbconvert_exporter": "python",
   "pygments_lexer": "ipython3",
   "version": "3.9.7"
  }
 },
 "nbformat": 4,
 "nbformat_minor": 5
}
