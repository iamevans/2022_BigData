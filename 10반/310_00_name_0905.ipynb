{
 "cells": [
  {
   "cell_type": "markdown",
   "id": "5cd02810-0b97-4ebb-8092-5887cc76dbd6",
   "metadata": {},
   "source": [
    "## 2020.09.05 6교시"
   ]
  },
  {
   "cell_type": "code",
   "execution_count": 12,
   "id": "f9ed233e-3bb4-4c15-b3bc-ef4afb55867d",
   "metadata": {},
   "outputs": [
    {
     "data": {
      "image/png": "[encoded data removed]",
      "text/plain": [
       "<Figure size 432x288 with 1 Axes>"
      ]
     },
     "metadata": {
      "needs_background": "light"
     },
     "output_type": "display_data"
    }
   ],
   "source": [
    "#라이브러리 불러오기\n",
    "import matplotlib.pyplot as plt\n",
    "\n",
    "#한글폰트 적용하기\n",
    "plt.rc('font', family='Malgun Gothic')\n",
    "\n",
    "sales = [1,5,7,3,7]\n",
    "mon = range(3,8)\n",
    "\n",
    "#꺽은선형 차트 plt.plot()\n",
    "#plt.plot(sales)\n",
    "\n",
    "#bar chart plt.bar() color='', label=''\n",
    "#plt.bar(mon, sales, color='g', label = '단위:개수')\n",
    "# 가로형 바차트는 plt.barh\n",
    "plt.barh(mon, sales, color='g', label = '단위:개수')\n",
    "\n",
    "#제목 \n",
    "plt.title('월별 판매 실적')\n",
    "#범례표시 명령어\n",
    "plt.legend()\n",
    "#차트를 깨끗하게 보기\n",
    "plt.show()"
   ]
  },
  {
   "cell_type": "markdown",
   "id": "cfcf2324-b3ce-433c-9bba-9a1f51805ea2",
   "metadata": {},
   "source": [
    "### plt.pie() : 원그래프 \n",
    "```\n",
    "우리학교 100명의 혈액형을 조사한 결과가 다음과 같다.\n",
    "\n",
    "A형 = 28명\n",
    "B형 = 20명\n",
    "O형 = 40명\n",
    "AB형 = 12명 \n",
    "```"
   ]
  },
  {
   "cell_type": "code",
   "execution_count": 17,
   "id": "37d21c9e-e3f0-453f-9209-f71be26891b6",
   "metadata": {},
   "outputs": [
    {
     "data": {
      "image/png": "[encoded data removed]",
      "text/plain": [
       "<Figure size 432x288 with 1 Axes>"
      ]
     },
     "metadata": {},
     "output_type": "display_data"
    }
   ],
   "source": [
    "b_type = [28, 20, 40, 12]\n",
    "b_name = ['A형', 'B형', 'O형', 'AB형']\n",
    "plt.title('우리학교 혈액형 비율')\n",
    "plt.pie(b_type, labels = b_name, autopct='%1.1f%%')\n",
    "plt.show()"
   ]
  },
  {
   "cell_type": "markdown",
   "id": "028514ff-9da6-473e-ab65-3ef8ba96797c",
   "metadata": {},
   "source": [
    "### plt.scatter() : 산점도 \n",
    "\n",
    "> 국어를 잘하는 친구가 영어도 잘할까?\n",
    "```\n",
    "국어점수와 영어점수의 상관관계 알아보기\n",
    "\n",
    "kor =[80, 20, 50, 20, 10, 50, 60, 30, 60]\n",
    "eng =[90, 40, 60, 40, 10, 30, 50, 70, 90]\n",
    "```"
   ]
  },
  {
   "cell_type": "code",
   "execution_count": 19,
   "id": "a6cbebce-c359-4145-b442-9d5f2e1abb03",
   "metadata": {},
   "outputs": [
    {
     "data": {
      "image/png": "[encoded data removed]",
      "text/plain": [
       "<Figure size 432x288 with 1 Axes>"
      ]
     },
     "metadata": {
      "needs_background": "light"
     },
     "output_type": "display_data"
    }
   ],
   "source": [
    "kor =[80, 20, 50, 20, 10, 50, 60, 30, 60]\n",
    "eng =[90, 40, 60, 40, 10, 30, 50, 70, 90]\n",
    "#제목 \n",
    "plt.title('국어점수와 영어점수와의 상관관계')\n",
    "plt.scatter(kor, eng, color='indigo')\n",
    "#x축제목\n",
    "plt.xlabel('국어점수')\n",
    "#y축제목\n",
    "plt.ylabel('영어점수')\n",
    "plt.show()"
   ]
  },
  {
   "cell_type": "markdown",
   "id": "47bc5284-494d-47a0-aada-2e5459fcd51a",
   "metadata": {},
   "source": [
    "<img src = 'https://github.com/teacher-jiejie/allinone_AI/blob/images/81_scatter.png?raw=true' width=800>"
   ]
  },
  {
   "cell_type": "markdown",
   "id": "1debedd1-8744-4779-b28d-8e200c8e91a6",
   "metadata": {},
   "source": [
    "# 그래프 명령어 정리 \n",
    "**그래프 그리는 포맷**\n",
    "```\n",
    "import matplotlib.pyplot as plt\n",
    "\n",
    "plt.title('그래프 제목')\n",
    "# --- 그래프 형태에 따라 알맞은 명령어 넣기 ---\n",
    "plt.show()\n",
    "```\n",
    "**그래프 유형별 명령어**\n",
    "```\n",
    "# ---- 그래프 유형별 명령어\n",
    "# 꺾은선그래프\n",
    "plt.plot([x축 리스트], [y축 리스트])\n",
    "\n",
    "# 막대그래프 세로\n",
    "plt.bar([x축 리스트], [y축 리스트])\n",
    "\n",
    "# 막대그래프 가로\n",
    "plt.barh([x축 리스트], [y축 리스트])\n",
    "\n",
    "# 히스토그램 (x축, y축을 구분하지 않고 하나의 리스트만 넣음)\n",
    "plt.hist( [리스트], bins = 구간개수 )\n",
    "\n",
    "# 원 그래프 (x축, y축을 구분하지 않고 하나의 리스트만 넣음)\n",
    "plt.pie( [리스트], labels = [데이터 구간 이름])\n",
    "\n",
    "# 산점도\n",
    "plt.scatter([x축 리스트], [y축 리스트])\n",
    "```\n",
    "\n",
    "**그래프 명령어 내에 추가 가능한 옵션**\n",
    "\n",
    "```\n",
    "color = '색상이름' \n",
    "alpha = 투명도\n",
    "\n",
    "# plt.plot(), plt.bar(), plt.barh(), plt.scatter()는 label 사용\n",
    "label = '범례내용'\n",
    "\n",
    "# plt.pie(), plt.boxplot()은 labels 사용\n",
    "labels = [범례 리스트]\n",
    "\n",
    "# plt.pie()에 퍼센트 자동 표시\n",
    "autopct = ‘%1.1f%%’\n",
    "```\n",
    "**기타 사용가능한 명령어**\n",
    "```\n",
    "plt.legend()            # 범례 나타내기\n",
    "plt.xlabel()            # x축 이름 붙이기\n",
    "plt.ylabel()            # y축 이름 붙이기\n",
    "```"
   ]
  }
 ],
 "metadata": {
  "kernelspec": {
   "display_name": "Python 3 (ipykernel)",
   "language": "python",
   "name": "python3"
  },
  "language_info": {
   "codemirror_mode": {
    "name": "ipython",
    "version": 3
   },
   "file_extension": ".py",
   "mimetype": "text/x-python",
   "name": "python",
   "nbconvert_exporter": "python",
   "pygments_lexer": "ipython3",
   "version": "3.9.7"
  }
 },
 "nbformat": 4,
 "nbformat_minor": 5
}
