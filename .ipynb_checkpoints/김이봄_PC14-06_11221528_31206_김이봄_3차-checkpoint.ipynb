{
 "cells": [
  {
   "cell_type": "markdown",
   "id": "2b4b1a1d",
   "metadata": {},
   "source": [
    "#### 1. 파이썬 프로그램을 이용하여 <출력형태>와 같은 프로그램을 출력하고자 한다 <코드 및 조건>을 참고하여 빈칸에 알맞은 명령어를 적고, 프로그램을 완성하여라"
   ]
  },
  {
   "cell_type": "code",
   "execution_count": null,
   "id": "9ada68cc",
   "metadata": {},
   "outputs": [],
   "source": [
    "import\n",
    "month = ['mar','apr','may','jun','jul']\n",
    "sales = [1,5,7,3,7]\n",
    "plt.rc('font',family='Malgun Gothic')\n",
    "plt.('월별 판매 실적')\n",
    "plt.plot(month,sales,)\n",
    "plt.legend(loc = 'lower right')\n",
    "plt.month('월')\n",
    "plt.sales('매출')\n",
    "plt.show()"
   ]
  }
 ],
 "metadata": {
  "kernelspec": {
   "display_name": "Python 3 (ipykernel)",
   "language": "python",
   "name": "python3"
  },
  "language_info": {
   "codemirror_mode": {
    "name": "ipython",
    "version": 3
   },
   "file_extension": ".py",
   "mimetype": "text/x-python",
   "name": "python",
   "nbconvert_exporter": "python",
   "pygments_lexer": "ipython3",
   "version": "3.9.7"
  }
 },
 "nbformat": 4,
 "nbformat_minor": 5
}
