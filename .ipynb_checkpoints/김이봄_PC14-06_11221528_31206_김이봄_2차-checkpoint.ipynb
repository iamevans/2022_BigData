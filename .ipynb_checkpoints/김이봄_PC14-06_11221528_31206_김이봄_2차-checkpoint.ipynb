{
 "cells": [
  {
   "cell_type": "markdown",
   "id": "66c8266b",
   "metadata": {},
   "source": [
    "#### 1. 파이썬 프로그램을 이용하여 <출력형태>와 같은 프로그램을 출력하고자 한다 <코드 및 조건>을 참고하여 빈칸에 알맞은 명령어를 적고, 프로그램을 완성하여라"
   ]
  },
  {
   "cell_type": "code",
   "execution_count": 2,
   "id": "a294e041",
   "metadata": {},
   "outputs": [
    {
     "ename": "SyntaxError",
     "evalue": "invalid syntax (Temp/ipykernel_2724/3511139543.py, line 1)",
     "output_type": "error",
     "traceback": [
      "\u001b[1;36m  File \u001b[1;32m\"C:\\Users\\user\\AppData\\Local\\Temp/ipykernel_2724/3511139543.py\"\u001b[1;36m, line \u001b[1;32m1\u001b[0m\n\u001b[1;33m    import\u001b[0m\n\u001b[1;37m           ^\u001b[0m\n\u001b[1;31mSyntaxError\u001b[0m\u001b[1;31m:\u001b[0m invalid syntax\n"
     ]
    }
   ],
   "source": [
    "import \n",
    "b_type = [25,19,37,11]\n",
    "b_name=['A형','B형','O형','AB형']\n",
    "plt.rc('font', family=Malgun Gothic)\n",
    "plt.(b_type,b_name)\n",
    "plt.show"
   ]
  },
  {
   "cell_type": "markdown",
   "id": "c9bc6bad",
   "metadata": {},
   "source": [
    "#### 2. 파이썬 프로그램을 이용하여 <출력형태>와 같은 그래프를 출력하고자 한다. <코드 및 조건>을 참고하여 빈칸에 알맞은 명령어를 적고, 프로그램을 완성하여라"
   ]
  },
  {
   "cell_type": "code",
   "execution_count": 1,
   "id": "d140bd00",
   "metadata": {},
   "outputs": [
    {
     "ename": "SyntaxError",
     "evalue": "invalid syntax (Temp/ipykernel_2724/2511728418.py, line 1)",
     "output_type": "error",
     "traceback": [
      "\u001b[1;36m  File \u001b[1;32m\"C:\\Users\\user\\AppData\\Local\\Temp/ipykernel_2724/2511728418.py\"\u001b[1;36m, line \u001b[1;32m1\u001b[0m\n\u001b[1;33m    import\u001b[0m\n\u001b[1;37m          ^\u001b[0m\n\u001b[1;31mSyntaxError\u001b[0m\u001b[1;31m:\u001b[0m invalid syntax\n"
     ]
    }
   ],
   "source": [
    "import\n",
    "import random\n",
    "height,weight=[],[]\n",
    "for i in range():\n",
    "    height.append(100<200)\n",
    "    weight.append(20<100)\n",
    "plt.rc('font',family='Malgun Gothic')\n",
    "plt.('키와 몸무게의 상관관계')\n",
    "plt.(height,weight,c=height,cmap='RdPu')\n",
    "plt.show()"
   ]
  }
 ],
 "metadata": {
  "kernelspec": {
   "display_name": "Python 3 (ipykernel)",
   "language": "python",
   "name": "python3"
  },
  "language_info": {
   "codemirror_mode": {
    "name": "ipython",
    "version": 3
   },
   "file_extension": ".py",
   "mimetype": "text/x-python",
   "name": "python",
   "nbconvert_exporter": "python",
   "pygments_lexer": "ipython3",
   "version": "3.9.7"
  }
 },
 "nbformat": 4,
 "nbformat_minor": 5
}
